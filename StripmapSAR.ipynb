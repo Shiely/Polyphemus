{
 "cells": [
  {
   "cell_type": "code",
   "execution_count": 1,
   "metadata": {},
   "outputs": [],
   "source": [
    "from IPython.core.display import SVG\n",
    "import numpy as np\n",
    "import scipy.fft as sfft\n",
    "\n"
   ]
  },
  {
   "cell_type": "markdown",
   "metadata": {},
   "source": [
    "# Stripmap SAR System Modeling\n",
    "\n",
    "## Overview\n",
    "\n",
    "This notebook will describe the fundamental signal processing and geometric models of Synthetic Aperture Radar (SAR), as well as implement an SAR System Model.\n",
    "\n",
    "SAR is an imaging technology used by airborne or space-based surveillance platforms.\n",
    "\n",
    "The key idea of SAR is that a very high resolution can be achieved from a distant platform by emitting a series of radar pulses out of the side of the moving platform.  Along the direction of the radar pulse, which is called the *range direction*, conventional radar methods are used: an emitter produces a radio pulse and a receiver records the returning signal.  Using conventional radar theory, it is possible to infer the position of targets in the range direction due to the roundtrip delay from emitter to receiver, which will be longer for more distant targets.  What distinguishes SAR is that it utilizes the forward movement of the surveillance platform to collect a sequence of pulses in the *azimuth direction.* The sequence can be analyzed to produce a high resolution two-dimensional image.\n",
    "\n",
    "## System Geometry"
   ]
  },
  {
   "cell_type": "code",
   "execution_count": 2,
   "metadata": {
    "jupyter": {
     "source_hidden": true
    }
   },
   "outputs": [
    {
     "data": {
      "image/svg+xml": [
       "<svg xmlns:dc=\"http://purl.org/dc/elements/1.1/\" xmlns:cc=\"http://creativecommons.org/ns#\" xmlns:rdf=\"http://www.w3.org/1999/02/22-rdf-syntax-ns#\" xmlns:svg=\"http://www.w3.org/2000/svg\" xmlns=\"http://www.w3.org/2000/svg\" xmlns:xlink=\"http://www.w3.org/1999/xlink\" xmlns:sodipodi=\"http://sodipodi.sourceforge.net/DTD/sodipodi-0.dtd\" xmlns:inkscape=\"http://www.inkscape.org/namespaces/inkscape\" width=\"140mm\" height=\"120mm\" viewBox=\"0 0 140 120\" version=\"1.1\" id=\"svg8\" inkscape:version=\"1.0.2 (e86c8708, 2021-01-15)\" sodipodi:docname=\"SAR_Platform_Geometry.svg\">\n",
       "  <defs id=\"defs2\">\n",
       "    <marker style=\"overflow:visible\" id=\"Arrow1Lstart\" refX=\"0\" refY=\"0\" orient=\"auto\" inkscape:stockid=\"Arrow1Lstart\" inkscape:isstock=\"true\">\n",
       "      <path transform=\"matrix(0.8,0,0,0.8,10,0)\" style=\"fill:#000000;fill-opacity:1;fill-rule:evenodd;stroke:#000000;stroke-width:1pt;stroke-opacity:1\" d=\"M 0,0 5,-5 -12.5,0 5,5 Z\" id=\"path871\"/>\n",
       "    </marker>\n",
       "    <marker style=\"overflow:visible\" id=\"marker1207\" refX=\"0\" refY=\"0\" orient=\"auto\" inkscape:stockid=\"Arrow1Lend\" inkscape:isstock=\"true\">\n",
       "      <path transform=\"matrix(-0.8,0,0,-0.8,-10,0)\" style=\"fill:#000000;fill-opacity:1;fill-rule:evenodd;stroke:#000000;stroke-width:1pt;stroke-opacity:1\" d=\"M 0,0 5,-5 -12.5,0 5,5 Z\" id=\"path1205\"/>\n",
       "    </marker>\n",
       "    <marker style=\"overflow:visible\" id=\"marker1173\" refX=\"0\" refY=\"0\" orient=\"auto\" inkscape:stockid=\"Arrow1Lend\" inkscape:isstock=\"true\" inkscape:collect=\"always\">\n",
       "      <path transform=\"matrix(-0.8,0,0,-0.8,-10,0)\" style=\"fill:#000000;fill-opacity:1;fill-rule:evenodd;stroke:#000000;stroke-width:1pt;stroke-opacity:1\" d=\"M 0,0 5,-5 -12.5,0 5,5 Z\" id=\"path1171\"/>\n",
       "    </marker>\n",
       "    <marker style=\"overflow:visible\" id=\"Arrow1Lend\" refX=\"0\" refY=\"0\" orient=\"auto\" inkscape:stockid=\"Arrow1Lend\" inkscape:isstock=\"true\" inkscape:collect=\"always\">\n",
       "      <path transform=\"matrix(-0.8,0,0,-0.8,-10,0)\" style=\"fill:#000000;fill-opacity:1;fill-rule:evenodd;stroke:#000000;stroke-width:1pt;stroke-opacity:1\" d=\"M 0,0 5,-5 -12.5,0 5,5 Z\" id=\"path874\"/>\n",
       "    </marker>\n",
       "  </defs>\n",
       "  <sodipodi:namedview id=\"base\" pagecolor=\"#ffffff\" bordercolor=\"#666666\" borderopacity=\"1.0\" inkscape:pageopacity=\"0.0\" inkscape:pageshadow=\"2\" inkscape:zoom=\"0.81596166\" inkscape:cx=\"324.08895\" inkscape:cy=\"395.86738\" inkscape:document-units=\"mm\" inkscape:current-layer=\"layer1\" inkscape:document-rotation=\"0\" showgrid=\"false\" inkscape:snap-bbox=\"true\" inkscape:window-width=\"1252\" inkscape:window-height=\"943\" inkscape:window-x=\"0\" inkscape:window-y=\"23\" inkscape:window-maximized=\"0\"/>\n",
       "  <metadata id=\"metadata5\">\n",
       "    <rdf:RDF>\n",
       "      <cc:Work rdf:about=\"\">\n",
       "        <dc:format>image/svg+xml</dc:format>\n",
       "        <dc:type rdf:resource=\"http://purl.org/dc/dcmitype/StillImage\"/>\n",
       "        <dc:title/>\n",
       "      </cc:Work>\n",
       "    </rdf:RDF>\n",
       "  </metadata>\n",
       "  <g inkscape:label=\"Layer 1\" inkscape:groupmode=\"layer\" id=\"layer1\">\n",
       "    <path style=\"fill:none;stroke:#000000;stroke-width:0.264583px;stroke-linecap:butt;stroke-linejoin:miter;stroke-opacity:1;marker-end:url(#marker1173)\" d=\"M 4.0220476,64.025884 80.871511,11.171587\" id=\"path10\"/>\n",
       "    <path style=\"fill:none;stroke:#000000;stroke-width:0.265;stroke-linecap:butt;stroke-linejoin:miter;stroke-miterlimit:4;stroke-dasharray:none;stroke-opacity:1;marker-mid:url(#Arrow1Lend);marker-end:url(#Arrow1Lend)\" d=\"M 4.5084363,91.425691 81.357898,38.571517\" id=\"path10-5\"/>\n",
       "    <path style=\"fill:none;stroke:#000000;stroke-width:0.264583px;stroke-linecap:butt;stroke-linejoin:miter;stroke-opacity:1;marker-start:url(#Arrow1Lstart);marker-end:url(#marker1207)\" d=\"M 10.576955,7.7061235 11.387604,86.663188 73.159043,116.00859\" id=\"path32\"/>\n",
       "    <image width=\"39.877781\" height=\"17.030384\" preserveAspectRatio=\"none\" xlink:href=\"data:image/PNG;base64,  iVBORw0KGgoAAAANSUhEUgAAAxgAAAEMCAAAAABizk8cAAAABGdBTUEAALGPC/xhBQAAACBjSFJNAA B6JgAAgIQAAPoAAACA6AAAdTAAAOpgAAA6mAAAF3CculE8AAAAAmJLR0QA/4ePzL8AAAAHdElNRQfl BQYQAiProUC9AABCBElEQVR42u29d4AkV3Xv/z3n3qrumc3aVY5IWuW0WiUkRMYgcg5GBCFMMNlg4x x/TuBnjP3AYD/zbDDBxrIJDo9n42dMRqxyzhIC5VXYme6uuvee7++Pqp6ZXe3sTuiZ6dmtD2gn9fRU uKfuyUeIGkIAChANiKMApRi//rZLt9y6NUANXgJcgigBA1oxveQfe22EDKSioWGPQvqCQQIilpLkAt PygZuvvuKqOx8QTYC2gkROebG4KAQ2/dOGFSXySqYaGvYg+mudlWCIQe0nV9xwxbU3dr0ZFCIwAwAR g5JQCgyAqMR1XzmjHV0jFg17HEIABLXMo0d56y2XXXHtXYVO7CO7+/WPvssEpkKJHmW+1KfT0DAYas GQQq+75fvfv/3+kgAkC/WPdycY7d7bP95rCUyRHJudo2FPoRaML3/o5gfhzQB1ktLMf9/ZU/9pDcdH FQhZs2M07CnU/qRjb9yKzFmmaqGchVyMpNY3T7s2rVR2kVm+uw2moWGZUAvG8e+3FaEACAWcm7H7tS u9eMd5X2VPRgpoY4U37Cn0bQw77WpxnMVeUZMFjHT1dz/guyPRm/mlPp+GhoFQC0Z0X3suXPK02WpD WRA1XvznmSVkS302DQ0Dor9jlPmLviKahBAQajP8dTVACB+feMl+ogyN9d2wZ9AP8HVHbjzRXISClN nb0K3isEtON9VQbRqxUakaljd9M3tk7NgPEgIzYg42dIF7z/xi0piNMxnQyEXDMqfeHSiwzmm31t/b bVxvZ4wWP/87CgVgEhtro2F5M+mYjSt/CV5EgLlsGTk62R+8toOOoVRp5KJhmdO3J4yulz/3a4DCpq TRzhS1VoHRzqZ/OLI7AjRJUw3Lnb4IRF+08M2nx+qrGXul+vgINWRh7SVPY2g1SVMNy51alTIPZTr/ jXn19WzlAglZBgSMP+MTmkFm/fsNDcNFf8cocyTBfcd3S8hc1rUQPlFtxfg7/mfp3FKfVkPD/Ogb3z ngRPb/tdIBmMO6JhAJk3H3sQvGkQALQFH/jE1yYcMA2HEhLeS6mmpmE4xPvKacg4kxhdGOHvGVE0Mc gdH137fJLmyYCxPGapLqEd7/Rn9JTX496BW2fR6t5L9Tjvh5yEWGTs7bnvbFzIDkUmXL1z7ghobZMf nQdqqgWRIAJNlfUrKT1w4G95uTnwtgT7j1cstnn2Tbx5CXcGNf5rO6lhdZs1M0zIPtH6giMvEYF0xV RLgAz97tIhaElLeeUUaVuYrGSFdc9NHhwr/Mum2xpq9OwyDot+zorycTwZSgwALEB7ZbuSJj+cb3E3 OWC3TB6GOe5G+e9tBIQCMXDbOGfRubpNVIpUPBzCylGEQAmJlVZRILoJjsEOOm2GObfhzm+GYAMtKo hnbv0M+eH/zCHHTDnszUFdm3dgWQeiURApgCZqiKRgUwGfRC2zH5w+j+9nU+zcOUkaoz22hn5cdeH3 wjGA2zhAASRESmCInFMpTRIqDeZzrinLJvaZCgDNrMeJxgaIov/VcAcMnN3QgXwsf8HX+MpNJ08Gyo YN9IMCWhAJIDUZsLhIDJ4FQoNIfuA1vvf+S++x7c+vD4w7HolcEYIeqc13Z75cq1G/Zbc/CGQw9cky soiPAMORAyIDnA1NI8klkfJxgh0289WcwzqencIyhCR9v3jL/dJ6omNvUZDX0mn5O1W4lRXXDKZCKe EIzdt/Xa+269456tj3RrC4KOJESkNikEtZaVJeYbnrDxwFOOOGYdCucjmQmTNwrmt4M8Po82mr7n4y Ndl2QupXw1tV9LNv/dkUlEmmzbBgC1+8gSvQhAUhO9gOaYxAF22+2XX33bPQ+M+aotLLyKmJGslSpl 3Xwc4pyQJURIEcrao046/czj1tBUAnMkB8wry3tH4xuC4O475UEh4ON8roFQnIR1lzy1zBszY2+H6I eqk2r9HQGQHILlUooU9177g8t/dFMdE4Y44aSl228ZW30QQK0vKAREVAIA5COnP/EZJ68Xcz3NGOf1 NN5RMMwByX3k5/bZCh/nkxoCZwRU+JF3p5AP3GnQsDwhFZV9kRJFspSc69xww2U3XfETy6IBDiSgrB uJczsn1WS7fRCTeonAJHMpEADWn/nsZ5wIRXITQjgXHq8tlT4JnvateapSVT90I5y8+eMxm3hiNOzV RA8YhJ28epw/eOeVl11580OTqUPGicrqiY9icOgHLCpX1aSAVJ+rAVBYBkvAygNe+bwz1Xxlzsxt3T 3eKxU9TP7lhUJmYe5bhmq1EYoP7umXZK05H2DDnkL1cIzJO4QM5QO3XPbD267tJABoGWjWz14VwtVB PgEg/SxakYnIs9RuLKu/MnGoNa9MSmSRGy965aHOWf0Os2dHwShzJDGHV11iLs2+xHXibatDFhDi41 FfOW6Oh9ewZ1BHG+BIlXDH7d+96fI7emJQiopN6fInQj4+vVur7meAAsR2I4yExMTXlVmuBmeS3JPf 8tyVwBxFY2dLn4Bcd+42m1f6ef/9QYh3lzwzjx7RwxS1JbO8IQSmiB5W59WYcC/OImZ98lEmbq2JAA alCQmPJIpwy5XXXHXtT0qrlKK55x7tBiGcMV/1josPS4CLPrnkord+VHD3N2oawUj4nd/GaGcQkkFA Xfijn4suZQCianTLfgFVPkOj7/gcQNCqofVe7ZZOrNJfg3gwqgOQYqbRcoSMNnbHFT+44arxHlg/+A eeKT4FNQgorWLFaz5wTCHefHKo7s/ErMldM41gQLaec9tAxFlAQHx8/V96ai9zgIVWd2ThrsmCMsUr Uj0gPepNUBBTa6kPb8lI/X0i0ml1WRiozAETe+BH37npipsfojMYnBil1ogWjLp1LPISI6/99UNLto wuWk6p6v52763aqRVBwPTzrxUOSJcC4OOTvnhAmaPndNmqUVMKAIQTTpLk0GsjOAVlL26PYiZaPYpp DiWyKpT341uu33Ll7Y+2CqB6jsui1TmLGCB5gXWv/Eir9B6o1bs+u6ws3bl5TWp35Bn/qbNvFzINWS IP/bsnBmuhzK07ujwX0GQBZf8JGZBZ0UbygEGx19afGBRVXriIqcTMWN573aXXX3P3Y/US85ooxmq1 Tmy8CyckwqpFmoJorfvQhaa9dlSFUXZISZn293dKyPCdp8wr8j31j4DIGFd94tVCXdaKOOt/KDCKwB EhR+mj0OukQrHXkVSQTFSBJPrYT7bcsOWaeyIAqIv0Wk2vU1LFuHi7hhBQk9FxXPBnR0q3pQVEVcgp aey7+NWdnqmk7J0fG4AqVZGX8Fril34r64wSsixXUO0yJAC4yn6Lrlc8cv913SefIAx5SstY5Od8VQ gRJEIczHTrHVdfdu0N9wgVpg6IBHyiENX/FxfxlpAFiIv7ffL5HiEDQBPp12/MesdILvqw9aSHBnYm nkmgeMmnVpX5MhyjYagkwtWyId1H7rvnrjvuu+ueh+5HFvJnvOWCFhn9XqdK0QhRIcW23nDpTZfd8Q AAODGhTSwuR6v89hTWwYYFRggRg9AziRjgo7563/Gc7ZWrNxx08Pr9a+vf7eoddkpSSfjYe9RcrRcO 5HDBsz+zEZ3R5FA5coY9H53mav+TQQGTR+677747b7v3jkceHKvOqD4zO+qi1xwJo1Y1mErqDqbecs XqxjUU6euKdbKTQeGYPLoPXnHLpVfcNV6X0y2wx2mu1MFyQjJ/2BGbzz7tUEQxJxAk0R3X4jSCQUHR Cukpl0UAmEfF0g5kYd3nntrujoBFG8UycG8m0RTaPW69/567fnLDtlu2PVJADVkkvKP1LwzzaKuec9 GzPDqZg+4BEUxMSYmtW4RRgEQFVRiT90DIendfs+Xy6+/tElAlbSJ7afgQACowAxyVSY970TPPzyy5 xBxFLgkyZYbkdDsGzaE78s8vGOm2ywF2opUM8WNvypMmj5ChM7rUV2s3RM8EX371Zx7zhTdSDfAO9v iqeN/q2orD3/qKA4FSPRIcEpfxBJ2JHIv+lRAHBC8wCg3qMHbz5Td/564fJXWRKuDQNyyuJ1xUOSQq QrODX/TGTZ7CJG7HLYM7pSQtssNXAYAfaJqT5u/q0nosyR6HnhSYxsgvr8MoFCNOVQCg/jBxXXIAKg D2ecP3ysTCYkxLfejzwcys/oQ0YySZYrKSLErGh7/z6XeevcEBCs0UyKqYtwz5PlkPf1EReAVEIYoz P/dICEbrssMp92x6RwENjjecvU1tfj07t8OJlj4+64urBabotZf6Uu0OUySHFP2PX/dtnVCcRBN20B kyLZBpkQW409/2gn0RmCPZ8g1mToUGmqjCTG3rjVsuu+buBwEAThEAJxGAKGzC77To7qeZ0j8wHyEu Qig+8oR3vUWtbO/gE5rmkdGLZGDJX8EoBpsY69wIjr6S3YIlh/6pGsiSDIwx/Bw0A6BOpd4dpp5U/1 s+B7Dfz17eZdpGpv6DdzliZimlUBSRpEWWt335j199Sg71QJZlmRMAdbQsq91xst2H4WPiwMQ7AB4K yaDHfYmdgrQwefbTyHbIYOaLXLY+7SpkaYDqo0Nyrc6Kz78gcVnkEpqI0aHM7Ytve0zrpP86z2WHjo 0qSah0vgd98htfuC6G1hwHty09dcCmskZTedNtP9xy4z0FALTR63tjpH6ldwUwxGb3joiYGuBZNcLJ ENxzP73K/NSUnuk3veRMUbT+5o3ZPPqvTfyZfjG71fXs/MP3u+SWQW5R0ULIElyJ/NqLv6+kCKpysa nh275vvjpPUSMOedXFxxvQd2EuL6L0NfJHb736yitu/bEBQlUgVe1uRFifv8pkOcXQqlCT1HeIUEmQ aqS9qMT9//cFvfbUlJ5db6dlyWdJtgCtNgUXl+ySlrgslI2C7Fj8WcB7OKg6ON2Vy8mLIn/elzpkGc mUyEQGxkAjw/yPZ54kMgYyVdY1jbRoZKKlGEKIiaQ9+I0/v/i8dVXzAVWVPblrvRf8BhMnVd/dynh5 2Xk2v3YhOz0OxPzMvz+ozClFi8shRSSpjK8o//Ftj7oEHwGHXRbFt4K5BBzxhtcfiSQKRvFVllgcAt 8NJcIDVpVQU6vc+ZiUzoEUufeG7192/Y8eZauAZEz9dJg9GKV/48fETW7vu36ylBb4PmABxhN74LDv cBsZwtI/QHdLZYQnxmtOQxtAWwBVTJ/a4gDNvResfPm/9ViOxcqKL3usntVDQIgTe3WKTJ2u0cju7f /8a8872QOZA9oiOtei6eXFaiDD+2axY5jg3tPvH3jsxsc8uNj+xBvGVwDDH+cDyhxFK4U2Ou/+qyxU Q2p3kRCgBs8EZEaTYy56077o5RpcyqrGFUtmW/UzraNn8FVnS6OoCpO64sbrf3jD5T+ujlwnEztUMX CVYchQU2sVZ35XZ7pj0Njjx5ANXLvMgBac/3lamVK51A/PGVDQmBis4P8aBXJBBkwfhvEKQHIHQFte Wz/9nZBIMpAxknFJTqHqqF9/TrLsFkWqPn/o0k+958nrAUC9cz5DVu0Zqnv+ZgHU0qBHPjrjHcPoYs qe+IPBZ0SOdJGFLLzkMyuWQ51ryJIKrBgBeu0rXntjEiIvd9WrMY8GIVosq5qETe944TrA8uQQ59EH bB7UqU8EAbVI5wGw9/AdW753843jCY6SaRmn+pbqdjZOBuCYHGpcQrsHf+uhk6GY3a33Xjvwv56DAQ tGqxAQeZmXJ37lyKjzaUu9aFjKgOAluUffdkkY6e5KLFwCHE0IwCeiVbi07pVv3RR9odkSpRhy8iMF pppuu/mymy+7tQuFeY39Hk2kiNXd8hKccKFaeQwTIobRzmWnzVSVCkyRKb5m4J66DOpFAIcN/2FLo1 nMTg1hNJolRpaB/JjHCsgu/LUqEEBdpbQqnIdDdvanH2Qsl+h0zcxijCmZ2diN//irzztqFADEOZUq bCFuu4CkCKrJP0PgR1tgFHBQfHFSldqNYFRO97HbVgK6EM6pHB6tP2VgSsGWR0SDZinx28eh7aBwEM wwh1ZEJNv/3TeQMSYmq6+v0YzzTR1Jle1CxlS/59RbaLSitBTNaOnRK//mnc86oFJfnXN7iRGxGzwA 8fhTi/3QDnZ7wY203u8i82gvgNtOJEfr3WWXjLThz52qllpKIW19OdASDy8zNRhERJBDnv6PY1Xyba /HSKbBOW8ntt7I6n1TNNJiCCTLxHu/9T/fde4Gkcw5wOcK6J4ctJsNLadA++2W+ktwdzYGBTSVh55+ 1QDLlSaRrMRop33+Z/c1NXCZbNmEmOJ//GIifCIym9mVEUDIPNoJL3rrgXkpGUxLtqbOUpnz8dQeYJ rAnFTdCUwgQdScsHzoli0/uP7uh3xEv6+MDn8BxeKhBh9d+uLLJrpJ7lYwqDAT9/mfHnz4G0CdoCjH /f0xxaqQDX37mX4DHZNS8u++5s4szqbKX0Af4SNa8eUXnzeaQtV/zg/geVBNT6k+N5hCLTpnErL0o+ u2XHPNnR3kKQHIEaiA0LAscpsWh2pw5HP+WWfslapWQoS86pL5jAXYFS2LxNrPP7t+/6He2qd2luqM PvTmL8Fn3Vm13xKqMmUBx7/x1YdZpO8Xjc4LUwBG0QQkVSpSamH8jmuvvuy6uywLPqlG9ouU6/mh85 gkt+fhE9Z97YzJ+7sbGyOSlkgyXiqDLeSr0CwD4GQE+INYFlMiUENOIDnG8CEo3Cy8Ei2oAqIq3mH1 RV8nYy9anPdZW21PpDIYycCHrvjcu8/dVwA4cbVzQDwA9ZM1CUu3DIcQxYdrjwjJmXilLEYzdsJ73U Jk2cI5gQqc5q8tWS4TwTBjyRRp8f8dqjK7hBapamTgckBP/tj9ZjEwpTmft5mlZEy9kgwxkfd8/Y/e euY6wAuc904Aca4OxgNOAOiyKIVZTDLoBYyczAvYrXbEuh8M7j7rnoFVuE4iRKuAuOjNnvZXTxh6Xa q6JnVX59IT977lX2fhlqiLF9R8IgQCW/fSd5xmarK7znjTHwtJwIOCzqNX3PCDq+7umLlqIHCCkrXG JIQzTYA4JlTNnhbghi5PsoAjvnWA9k3vqvfzjEgl/xQ5oMiBhWl7swIH/ZAFpxYsDP/uUUT+WhUcml tHEOfhzvmrbYGxMJIsSbJn/VNP1eaeOLGhWP9fM1qIMcRkZnzsuq/89vOPGAVEVPeMUvPFQYBMAHH/ EbYrlJmpYBi7dm6lSvldNXCbI7k4oI3sM+yOc3xiAQy9YCSy4JcORksFyGYvGyLOAfk+v3ApmWKZkk 1G/vpXPgRjnBqkiEamxFQmxmgcv+qvf/lpR3m4loM2gYnZkcMLIJn8CcuxqXd2hoKR2CO/ira41kIY GvUhtoFfIouqsGxZGBu0Mfb4k/OAUZ2LEugAqHcKPPULD5E2TgYry0o6jCzCxA5R/71oZOwWyYKxeO i7f/P2s/bLAC9QBaDayMXsyACsFPwSx8jO7AWDJMf5RlQ3fwFUqcqA9T57xaMMIZLzzpJYFDpkj7HD DwrEZ5h9T15xCgCZ93LEr9xgDF3SmGwyRbwSkViSoWQZQihDIvnAf/3xGzfvU5nRvl0VlstyyMUcLr TqCfYz1eN4Sv3DDAXDyMB0/Wov8DOZRzP74xNRnwEtnHRnXeG2HAQjFSxiZOSXNrg5rcp+1p5AM6y6 4Kslt4WyZFUmTgtGsyozJ8WQyFjS7vrSH7zipKxyvIq6emRvLWKT79owA1oOyPHKXsnE3tSUpBkKRu A4Oc7/D1nm3AJc+HpRqUPbrf5W6PVViWVBIEO87Sxk2Vyui2aZACNAnkH1iN95gAVjv0mBkUwpxS4Z esl6W7706xcc3hZRSLuFfkFU39jWZseYJVVzqRcGsmdhuwU3C1XKIh87sbIvB+/10BxZJlB4B3yCRb RlIRih2n3NUuS75pB+XD/lVQAv4lUhK174TZa9SEvJLJS9npEF09Yrv/ALTzlAqhonhRNAM1c3uRFX 1aA3zBLBiOjLe7SCtKma1EwFI0YysLC/8zrgVrYVCsBBHTKgpXh9p1w2TfwssMeUOM7PbJjTqSsgfQ mBUzic+NFHe5bKMiZaJB/8xv96y/nrqssk6lRF3EQPwImOrBP/NMwCVbyZLI11uv5sBaNaApb4DCfI F7aJt4jIcd+K7AUmFlwmueiRj/DWEyFaSbk6qJubMSYisvZN3w0ke3f+5/943aY1Vcdk0WZPGBwCBz hk+PVY7izxf7aCcVX1fgt6yCKC7LciAwsyBqbhl42SkSwY3pZBoA4OVUncnM8fOO9PPnTBqSOVKPg9 utnZEjCKHBBIhk+y3M4bNTfBsCK+R9Fa4HskIjlwxg3dHpMx0paoq8bsCKkYY/yL1Q4KhWZ+zhWPIp K3gBaQA5plTqQJTwwYgQMy2fB1FjvdMGYlGDSL/PF++YLrsiLwo8g/wiIEWrHUS34mjJMkI3n1cZOt O+eqcYoA3iNbude0r1l02kC2AufdzW7aedf9WQqGMfwFskUx8jz0zGsYIyO7Q69KkSRDyW6ZwuvgNa 9y0eesc2ZVF4LqnwnhaLaNQZEBCryPHC/N0s4UklkJBmnbIjcvRMfOHVDkGHUY/Y0Oy3IZeKfKqhdB ICPLT64GNN9lE5HdXwBZeGNur8b59f9inR5pZJynjVHR+zcsQoc0X6+LU76RArct9brfPaGk9chUpp Lp+8fk8JhP/0aBOviJApjGxBgwotkzbk89sjddJ+FZCka0QL56MR5kGcQBHnjjvYlDb2ZUTVfMIsku 07ZX5GhVBt7cUMABItKPczQMFF39EbLHamGledsYrJKm7lypdT3Ygt+wDCob/qy0EFgYC07kSQwtKZ EW7SN+IhDaPO2HAIEKPJADXpw863p2GXa1kGatSqXA8d/FKsDJYgzrHYHm2PQ1jpfVMDzrxmEYvLIL zFJK5PeOyICsCj80orHkqDjAOcBlcGs+ZSy4az1k1oIRA/noqZUELkLOmirQynHBHb3AXjV+aYj1Kq t6mjP1euHR57vRWhva81tcLgfUObTQBt78WOp2IwvjLtrsz974Zoj8DEZ8XdC5sNR2Rga868fJEpki mcKwKlNW19eRZJd/2A+ANzbCUtOqUsK9Qs68rFdVJMU0QFXKjIyJ8UXI5pwLNDucAxxGgZW//JD1Qm +4w+B9K64wK8f47SOyxnIeDpwCuQJHfTax7DEVReIu42Oz3TFSNWTxUr84+oE4B0CrwoPVvz9mTIlW DqWRYbVghF5RMhQsI7+3sqmQGAoEIg5Y//sPkaEqDi07u7ybs20uSEmODK13fSJpWpzuK1moxiCPjO PAd12837ZRFxfB6p8tJCBiieoBSu/OW3541Za7s9Jm0cKzYaEQZsnWvuHX1qPnfX+M9i4bws7yllWt IKFh/Lj71Bb+hgt9BLIAl9TUl27N29+3vsji7IurFxojRUSSaHn7lht+cMtdQQ0+AopFuE4Nu0Y0rX zTe4600CIEiMwSPXY1LHiOtyz6T/6sZVj8CVSjnZVvfsfRiHBCgSmMbjFmPfaHSprW43/rHso0BybA w0SsuOXmH15+/d3J9bfSRiCWCM8EQKgkHKj+TT9/RPRh5prtXJ9lFp98RbH4T0JnkvfkJe97Ekxoqq aY2ml5IaFVRXNGV22cNDFmLNBGEoz/6KpLL7v9xxECIut3hm8EY8nwRhBCcRGrL37nkb2WzGba4xyX dkr5fz/Fu2IpzliU7oy3vnxF6TU5gEJb8OTsvjqaRJFUjHQM4kWYnBTXXnvZDVfcizyaIwSE7A1j64 aZkS4A58qRrmg66m0Xra/u3Cz8RXN95ifBhX+3+J1P1URBA3DIay4+1qxsCQfSR3/3JwzRSpUCmdS8 ALBH77pqy5YbHzaDiEHyUprW+sOBk0Rp9SCb3/HitQkpR+Fm47OZuzIU7zrjEV38J6NLQBa973HlGa 979SiCushsoQXDpDYojCn6HGDadvtll954zaNRNSKXYKqJgAjRzCpaYgTqSuQWJXvRO8+X6FAZhLOZ SzRHwSjz5PB7v7IwU5Z2QV5OHrJLbu3LXv50V+botrHggTQaoDRxwAO3/fCmy2+8Hw6SKODEMfVHsT ReqKVEAKq4Eie88G2HYzzPKEjOeiMyC11q7rew0w7H373obinVCBFTiiDBJWx82ctOaKtV12MBhIOE CJhMvDD5h2/b8t2r73zIBwAesUrbNMvMqjgG1CE1G8ZSUg0jxMgz3vCMdSglA4HkATDMwss/V8Fg0Q 7ZJS9f/LPm5DQKJzFLBnfUS158Zn1BBp6jQiNEBRQ+fMP3b7j81q3wZuIMMCi3MymE/YETCzHHs2GG CACe8PqXHZaj8I7mkFztoZmFLjX3HaPMYS/+arsHt0gR8OkuAgAc+vwXbNofwUdPKNl340JIaDV7lp T6m5CJDwBBkQnjnVJ5f01JBUvNYCLlY1fe/P3L7tg2ack0qtLSIvXwHgBVZoGrh226BOFhz3jLKaNB Nc0jQ2KOgmGaHHrt759rEGaLH+ebvEA1xD7nP+tJJ4oSaiauNperg4Vwu5KIycBHHZCgN5tscWnGjC nBO6C8/+Yrt1x112MGaO0Pq96hYakRIZ0m6xt2jubSSG/0uRees29vJFgL80kdmrNgmCI6ee8ney6J LLlS7bIUgOzAZ57x5I15EB8JdbAkk6u9shWkP4643hpQbSn1a8yTpCoQ4XH/D6+74obruuIDFI0bdu iodwwnEaIUTaYrzn/FTx0UmAPRCZdgxwAF0Vt89NQHoktDMcsta5WlENlBm88748hDQCNU6hQmcLIH DcHaFqFMmdtd6Vqlc0KD3HHHlu9f8aPSJUhuAQ4gCVkC93TDzqiXrUBJAjkD1FY840UvWtli8iycF9 i8LM65Ckb0MLrk/uR97ZCW3j1ZPzxUJRKatU7YePbmJ6zNJToBaFRWsyB1IhZIEgKFESDETL3AFGHr jd/7zk23lyZKoFUmQCFpYq5kwzDQX3BCSFbCRznwqa84fz0QxdUCweRnFeqe5i/MkuiRXPTotc/7zl Ia332UhHhLCpsIJowcduyhZ+z/hANWaL+LLKW2hiiAiAKpb1kQwofuum/LbVfcsq32/FZvU6UT+1RZ 641oDAsiMMApLGHtQS99xlkty9BzTpEqN9R833+OuVIOZQ4Umn39mVkYAiMDMhFm80iiKjEBLmFk1Y ZDD9/36NX77rt2ZaufXFkrUSnlsHLsoYe2/fi+2++454GtIQtApjFBxThFDupdZqlPsqFGKleis4QD zvuppxwbRQWRE/fX4DA/XWquSlDRqvap5C7+lGLJ5UIoYnC0avOq/xVosvpBr5qtWDO6Kh9dMZI7ac eYYtkrH+0+9linV7IOWqupmgEuQQgBq3+HwoZqmII3AyTLnvjkZx+/CkljxuQEtZsdqOoB5sM8rYOi hdtPf6y/bHQYs0pFBLuVXAeSzY4wLAiFUFhVV1HlNYgJCC+pupu638lPecqxG2pnyuDLrOdtNo+PfP gXfW2WDufCkilHtuMFTJOvGc6D3+uo70QVsMtD5QpsByNEIWbwiQcfs+mEs45sUxcwFWj+/qQYz7p6 QG+18Ox4AZfBIe9tTDyjnLFK5icAT3OJ0lq/cfPZJxyyxkRAI/tDCBfgMOa3NEyR3Bde088NWu66+H KQ7T0aqZx/Yo4GaN4TSCalIQvusBM3n3Ti4aNICiOrgZwVC1HCOd+lYNBkr7lEKbDlLxgNS0ztW6w2 CSSKgMSqQ048+fQTD3PREyFlHpXjh3UeA4dTlSpzXH5urw4lDOUTd4oB0ahSQ0yVpaNIQCYpCaG26p CTz9l09P7qLCktBygw82Ba4MZm81zKySUXnL7rk2FS0oeQYT2uhilUThJxZuKDZ1p51Jknn3rkwZpE JFSxPEutKnOhX5C3IJtFdTTzXDLdEdOkDx833p1177aGhqkIpMqERtY+9ejNZxy3hhRFJMSDE6UB1W dV7me/vmIBKpsHsZoJfvqiytPcyEbDzlEDRGzCCp2yVKriMyeJarL++NNOPfXIfUgApMNS9f4dkGCE Z/6grBOKGhp2RLJYC4QQIvCxaqsC7dcCOw048ORjnrjxuFVIKobJCprlLBiQbz4Z7Z7DEEa+G5aafs zOKOwbokrCKaMICbjDjjzjjBMOWY3oEVKuoW7lPVloufgHPYiHPFHmb/rrvFySM2hYDlTCIQKDAC7W qZrOsv1POueMwzcqCGVUiq/iEpyoXF2iAx6MYIjdcc4Dak0co2GniNIARxOKZxRNKkmPOfH0408/xJ XOlZnQFFWxfuw7Yhen9+o0RzwYsyBk+INfEjabRsO0iKbKGUvo6oNOPPPM49dXpadmljPRKUyRRBfE yzTrox2QvRyy4twrGwuj4fFUi1w1GbKgWHnEprOOPXE/jWVbozPKhCRY1V02qi7tZlEd9aB2jO7IJS /PmlZjDTsiIkAC1LDfoeccd/qx62EiyVSrauO6X5HI9sIwGcdbosMemIe1zF/0lUqJbEJ9ew0+1hkP IhBav5tKVfVFqkqqglv7H3Py6ZuOXEtU/xvCkVg7MKg1HOHk0qePIS9darpp7EWIs0k1wUdU/ld4jY IEuKQbTjj7xLM2rAdStSMsTP3EwM9rYA/3VI588EOtosoXblSqvYPcqrbejgYR0CVClKwiEKP7H3v8 OacdOkIJGSypg9Xa0/AzOMEw5b3n3cGmceteh0OCgPCJUGWCquUHnHrWSccdkcPMMUpmEZnMp53NYj MowUiWocz/6s3rHoZLjY2xtyBOkgFCL8mgGpVsHbFp47nHHO5oor1MRGA6mQCIBaqfGPiZDWgNm5pZ bj/1dTUfG01qb0JBZCVUo7ROOPrszUevbyN6lOKRnNCkqj41W5TJ8INiYMa3pwDhm8/2vUYs9g4EgE 9wlpBFXfOEk07ffPT+Zk5QlqOkqvUbP9K02iOSLoO9oj67wdkYkLKF1/8tkYXGzNjD6XuWDEquOfmE TSeevJbUqmOwAsmhP2rKFmXc9ODPcIDmAAG5c/MjqamY2wNQsp43AamCElWjAjGoUFn1/j3g6E2nnX zUGipAAhz++MRMGbBgmPzRB8Uv3byMhsGhwiokEWt/itIxIbcIZ8jXH3PGmUcen3sIEOqComW4M0zH gAUDMn7eVU3ke9nSb6/vY38CKGhAFoTwrNva5084atOxm49sVwlOiap7mlRgwEoPQbqvvCgLjf297H HCur+kukh1lgDJcPjJp55y/MErapEQt1D9zpacwT7cSQ3ZC7+qzfihZU5/56AXo0mrJxg59OQzjj19 vzaiB4PR+arEbmJCy9JV2y3gFRgYprzySeNLfVYN80SIah4V4BLWHHTOMZtPOFABsLTMo5QM/Xlt/Z gd9iSxWAD/Uen1gx9ukgiXLVXvPwfQAJW1h5185qkbD4geZDIPOCCpAImqoFUT3GyPMzEGLRimQHx0 851LfVoNc0REUDmjsM+xZx6z+ah9kRzMxMRPKZhIEyMNq+LsPUwqMPgdgyZqn77IJR+hTZ+poaPuMi CEg3EyRlH18VApIWC++tSNZ51+xCoFQUKWS0bsQC/UoAVDUIp/2jfyUmU4prk27IT6xkg1jJAGERVL gD/wuE2bTz5khYJmIo7gsskUHygDFoyQManiW+dDDU2kb2joe5kqIXASoBBWA9lACp1EHHLGCWds3N gKsaXVnJa9mUHvGIkeGG+//6M+NprU8DDhfq2nndYmtjczAq595CGnP/HUAx0FTOKsyCmi855jt5wZ cHILHU3TiqU+q4YdqJ9QdImEgj5AfUwJGDni1DNOPvQ4AVKKYt6pmY4AsCS698rFoHeMJHSd0ateem ujSg0lLtWDOJ0PtvL4484+5pT92ctdJKB9T5NRqHuhWbEdgze+uyP/cuF4aIzvIaPqU6OE0qDrDjv1 jNOOWp8lFZDJWuj3wzSKVoGJOjSx5B2eluh6Ddr4Llr/+byeSuOuHSr6DZxA2efozWdtPGGVMzqUyC TRTbZ0qouyTSf7OjWCMU8oAJLjTeduFWl2iqVhYotulXQJrUIIFWoihDjk6M3Hbt64ygyOpMiemgA4 CAZnfAsAuE7757dODENoWGwMUBiEhUspLwsvkUIDDj3+1DNPOniVOSCZqACyxybGDoTBeqWI0b/7Kh qxWEKqpk4ZgtcyZwCyg04647hNB62CKWgGVQc2QrE7BlyPEbMzrzBrjO6lou4DCIiLzmTjacefeeIB uYCCAFG1ehpLIxa7Y8A7ht9yVYRaY3MvFQZAYd7isy7YuOkgKiFWohVCliGZgkbdu2PaM2PAgqH/Ye iPwmlYGsSAmH/wl0ZMC7UkubZgWQZABRAHMNW3fQ/Mih0UAxUMAtfF3JpijCWjHnHXwmdfih5HMqgH jE5gyamgGgM8kQbVyMW0DDol5CEENk2dlxIBV6z+2jFgmxAgwSkgUIWZpwjY6FIzYFCXKBkANRmvKr qW+rT2OjJAAQWEzp159Uk5FAIx0E3cDvVVo7RGLGbAoC6SU0Qj0hqBNg+kxScJPGAmCnvr/1sPMBkB B29hYDd5b2JA14wAVEXcUZKZNU7yxcYZxVpA5lL+5x8bB6FOQaJnmqXGFzJ7BmRjiIkokHCqoW5g17 CIJC8Wo48Bh37mfKwIrt9cth0VDnHPaZ25WAzsilFgVL+51RORrMk3X1yyoNaykPuN/3xIpyVOYUaB RN9bASlaTUxvtgxM/VQYXRZO3AzXNM9ZdIK3rICWL738oGLUNBZF0sx713IrJSABaGJLs2NAO4YJAM dCf+V7Lmq7t9SntbchMQugfeg95lohK3OAQOoVY/fft/WQU/fpjCz1AS47BpcrFcWN3/vKKxN8bOIY i42AkAO+dBaYwtgDY/f+5JF773tw68NjD5v5tP/nn7pntc9cDOYrGKZFCyZUJid//Mtls2PPiGrWBC hUE3oOQvn0F2+8+qGxBx98tMe6KgkANCvcmu8c25/l0jBD5ikY0Zc5WLQRLb/rwu/O+wb379weL15a Na/xUYh2Me/TFdBHNR/rr+okWhAEfPzAH5pLfi+txZsb87QxfNEypnY0l//v9/Vm7jDf8Q5xh497PA Z4sRRbpbA3/wnQbJdRBE5Awoh60DYINZfF7yul2TBmxTwFI7Qg6so08sB7v6ARrWKGv7fXCMAO9Ddo FVoEoAXQKmTempTvAWrav/wTpcVCQerizk4LaKyM2TBPd22Gkkwc+dqZn2sRI7uRi91HxKVmqS/LQj HxQEgGqHMtOC3c/B/lBs2ECnVVDm3/IjokKHDXbTRr5GI2zFMwErxG6nue8yOE5Lv5Ll885cbIDvS/ z5qlviwLiYiqic+cpdRdkdpI81+y5jVEEJaSTSSriUiEQtwIrvHVBNWlPvflwzwFQ5As27LpT+GRXE S569dO+bM10+0Qe/CuUZ2Xk5BGTnnBR5+CIhuEZpkiRjXBK0AzTjxgVJBSwOWA23sV2LkwTxtDQxZ/ 9ze8MAipVhuR05fw9Vd7/9HFHb7vpvn5noIjQBhWHnTKWZs27jfyzQ9qSm4ApcAUdqAWsf0DyCWIj0 mvtyjadECYBXN011IoCFlkdvOb/zvfyUZRjeFTaxXi4qTbfv3rX7XvtqI31u1uG++Mj3XGeuOdXrdb 9EKR+uVnImTfTVPPlhYR0FhvcDTUIa2J5JNKFCe+7p9V1bt44n36Lb9Z/ZWpY7Kk6hHQt40njdf++8 9MRpX16xQ2+VeFcEiihImOHnbK2ceddCA0eNxwVhEWeCh6dWWecJMHJWQL+Zf2LOZ4V0wEvXavzb96 u1H6/vNJsgB4q9aGZwJaJkxPeevz2r5OSq9m4SoAWIhF0e12O53ysWJ829i28eKR0Ot2u93QSckmGl 9IvZMI6GpvpEe1YqNUZZv9ubp9S3My4lsJgZI7WeEyMUNOatf/5E+qH/ePYPdKusIgKnVAQY2Aiga4 rLSVR5y7cdOJB4BUi1kJOfu6aAtcIl8JZ+v6g7M0ACN/72GOqpQS1u61f/KOL61+DFn5OHdjUElRsu SCswiPVODw17/+aIqZWkmfRACIFOIctJWN1n1SZTIIZSmGWBSdTrfbKbf1xraNbRvrFb1OtcMYoGIM E8djEFEYCSGYkRDQchrrZU0AqFU96S9/xeRHTpEJbxPhMYCAJ0mQ08Vf+rhkgFqCaIKKpRYTDdQ1h5 16zmkbN4QMQDIP+qjZy69aeDdDteX2bj64aX0wK+YoGNGHLLl/fcODeAwSHrdhAKZCBADJ5VZg9AU/ 86RWSuYg1Fb1Z0moA0CKAEZO6DKkiqpmE6lvFLJyExhpKcRub3y80xkrHis6Y2Nj4+VjZafTLYpQAI CSkdU+UAKAKNn3g4E0Vkt+YgfC5AL3rOSofuCLAUKRegPY/f6aoKRBqQb1kQiG9cduOvnUozcgCUtn Zg4qIYPp712iXJyWKoKrnxW89FvTNuyeuQgGAU9n5Xv+spUHrhzbSXxKaEpqq5trr4tT3vSygzSYpq yvO3mI1B6xSi4g9UcABAU0gNX3CDEgkYBXBdji2nriD0lRgEJjLIuyV4yPj42Pl49WAlOMl71ur9cr 1aY8mwVUVpqXEqICGigiROrrXiI0kIpKUmp1bAZrmKKkuQS10m845pQzTz16xHJKTF7poqoHAIdO9n 9/pd2bqe0yby5FygZYZLDnMwcbgwCC029f+CMXkCUb6fHxW4Y3gxAuYf/nv/kMj2i+7qCNZL4vAY9r FZl20lKVBu2bJaYgqWK13k9Ws7IqqzKlDLV49cWMKZZFL2wrO51Op1tsLcbHxsc6vW2hLMqijKzbYL nq3eCMtaWtAFQSKsXLsPMB749TpQAjnIu6/vhNp5502HoNlsG8gSpmHmBSmGqvdePmWLok4Mxsl3nd ZLGTrxBpcqVmwRwFQ4rf+LCNdJXUnecz+Ii2ldCzL37xWtHuSK8lyaHXNjrAzE+2mcfkx76+NEm/fH zKopzcWTBhjIOsHv07Oj6rcIix7m5PV697saIsiiJuKzvjY+OdcmvRGR8fHy8fi0VRliWdUUSMSkLF WF2myeAKp/79yWMDnUQceMrGc447bkVkBhi16ulUT8eudZnoHzv32gnXmyygqVEZ37rqmoPTXj8MZj bM0ca47G2XWdaFmEsi3EkOnMEVPPJFF50k0UUbiW2YAu3kYOZUp/p7RCDVchfpDyzpS0wtKJSqFMqU IjLFSN+ucxhrwaLApJ7bC4JQxNodG6r3FSetEfS9YhO/AUooiqJXlOPdbZ1OZ1t3WzHW6YyP9zqx7J XBuKNg7MjRh20+6+SDVwJgFG8xgyKJKkAVWKX2GZ2zN147UiIL0t/3FgwhQD5y50GhPXG+DbtlxoJB AakU0pz8yS+QCEBCAoF+cVKliAgAX6L1xLc/twXS0Ql8vYYdsH1znf4zuP44TYs8qX+i9Q92PmBXJn 4Krd+j/1//NPvvb/XDvq8CmkBEIMiylduddf37RSyLotstx3tj4+PjY71He+OdbqfT65W9MhoB+kOP O/Ws446uLBYCokLNIf2gpVR/nRIztSL/7X/yXYHVueELSP3m+ZZz86YnwiyY8aUSoygopv7uC7/hps TNACACBklwKQsUannsha99AgrtB8+Gjf4h9U/f6gDIlPOpXldLVqu1AgBMYVAw+WpPsjIUvV6vF+5f dcihozA1gCL1/Oyd/F0KMnRGW5//LZfg4qIVxzPcmpq5erNhhoJhWtW+WMzx2Xd3Hp/EkDPAISUBXF r1vHefvLIsvR+6isrpDmbHnaofIu7bMEaKwMyxivrHyuDQVmulAmaeQErwVeR7+onxMcO2VaPF1T9b zUyIi5XyoukKUzTO2pkzY+Ob0UsS6L3v/9w0v6QG9aXilLe+8KDOSGJmaZmlIOzObVPZMFWHv76aRQ IknYJgFZHf1ZuYCNNj59w80m2V4KLVxrt0wPVrF+lv7RnMVJUq8wzmKF/7mR+1Cj6+IMkZoch7+7/w raeKK0bhl2Hv4McH2yaM7cpHIEmr8IvVOlY1yq6y4mXCopkeanKmP33zqm0IzMKipYEnPHD32uiGav cebmYqGDkhqae/+FG0CvWPk4ssyEhhqza+7/lrgg/SsqKlDG7ZRZSmWzlStxfo7xQTxn3lDa46JytN +6kt072PuTJ/z7+PbvNaIixiMxWXrj5pT0tVXlBmamOkrJtWXv7mGyUrBOVE46j+Agg+dg//6QtPiN 5yQpNrC2QZKFI7pr1P932TScNBAKQ6qJGkiuBXib/ST9OT6SSDSv3rP/UdjdIqdpJJs1AIdMtrmqzz WTBDwVDtjqTf/FAXCD4yr+ViyoX2z3nbU1ck0yQmGVxySKLDn7a2Y1xCpvl+FR9BPfaadcAQ/Y/oT8 re3flKt73lTYBaFoq8XMQdI8nNBK0xv2fKjASDMJff+DPfbEEBOiR1NAOokuAj2odf/OKNTFMSPFyl dQy7XEwgM/m+9P8RefyPZdfvR4meydM98GK2e4IAlIs4RoTCG2O2x9V9LSAz8koR1L/81Qd86L/aJS gg3o2uWdNedcxznymutDbKfAZvtlcSPVDmsJQ99Rsrx5bgANRa1xzW3J6ZM0NV6taLv5M0ZCtbo2tW r1mzduWG0bVrVq9ZPbraAQqqIZMm4WB6PBBydlvZO7/hx7ybaZehwf39iHjD0eg2PWxnygwF49vPf9 /qkQNbWJtlMKqwnnPYy8Fkor22wlSH3qZYOkIGydyffUwFcfGbdSRk4arnFY1czJgZCsYbo2piORoV EKbK1BRYG1E8ko0CEGtyDqYjuCwgc//nF2C2iOGLCeh9uLMZvjcLZmhjdEcttCqvTL8UFACQBAoTse QFqbny05JS3svvPus+T2O7t/jd4AU44QrfdEOYMTNcyqNBW4gSq5I5rYvnWGeQGzVjhNNmkNI0mGNo d153Xzsmorf43iEh3f33oJGLGTPTAF9Gpsx8PwRMhYAipqCIg6kq2Vz46cklvPu/WwWyZPPv4Txr1J y95oAm73zmzGjHEFGIZpM5qJXOVNU9TBQMybLLjVoEiBIoAQR+9DMIRLB+r5JdUc3s9gAcVOqQkPPo x1DqHpz9l8uEdVe1PK++oVq93HtQLrrlI66Zvz5zFrbbV4OpKQAz/9UX28wvthCqiXBJBJJGu6yawE 2JyFc1ipOFTgKBJCGkytrVquuK88Hyda95+zHdljZxppnTCMYCQwnqkuMNT73fzWCr6ON8AZdGuu0e fHRJCKFo9QZVO/Pt6mFd3Z9RNU3msouT4BJamy581QYEZGjSa2dOIxgLSr/5QeDp1/nZuCakakDqmV YeE/w1QRwT+p1P+6hul4YoIgmAo4kYcikAZMe88tVHOUQokjQWxsxprtWC4kwp6LWyV17rAmY+tNMl 5CH5mLjyc8/Th0+7tzQHKmJdglu9j1UFhgS0qjCEitEgTktYxCHHP+fZJyJoii1QtLG9Z0GzYywsIS NDK374l7OgbM18zLOSQF7i2L8/PuuMXHfRzY8gt1h35q3Cq0LalNIqUdDEWTXar3XQiWefc8p+QLQc pjBJYaRJ2pk5jWAsKIkeAL74ypHuLIN6apoV/kmfOyDRC3HF5Xc/eO/dD/woRTgx679ZZWGLUGiAuk S6fY885pBNxx+VA4gm4gRGOADLrtR4KWkEY6GJLt54blHmJWYRvxC2e8LWaz/eIhWJqkhwKB7e+pN7 7rv//ke3dreNF2WMEYSqap6Pjq5ev/+aQw88/OD1LVHArG4NbOZRNTF1Te/amdMIxsISMtjD590405 crqTAIXPRRP/zeft0gWfWl7r9OaLEsihRJiHO6Isu9oKo0ZNV4TpZROcwQ0gjGgkIxyov/debD7xyS WhYAn0Y++wLqREFt1Y5hYsuRyQ7YECA4hRlFBCLT1es2zILGT7GwGNwH/m0W1kUCDCGLWXnUv20MU+ IOUyPedX+SuqCWJHxVWCh1w9PdNfFp2C3NjrGwlPln3mizsrud+WSKJ39hH6qfrtPVjn3dbLtGB01b 8/nTCMbCQaA38p2nGtKMJUOq1kTt3js+6gAEPzEyTbCzBd/PBtnxm41gzJdGMBYMApAfn3+nOT/zUt Ys5GW7tI+8t9Ny43m2s/cEJru7ux1+2gjEoGgEY8EgAD79O2qzSAXJS5fgV/3tBSFHr42iNe17y9Qv MDEUptktBkRjfC8o7/+GLzCLBlIlmOHQL58UM7NdyEWtWNWf1Tb4lIkjS33aewDNjrEgJJccov/k22 b4el/NQvdMKs/89H5NUtOS0wjGwpAcCvnec7ozfb0QwMoxKN7y50t97A1oBGOBYPSQn5xxz0xf70wT ANX4l6+nZs2OseQ0d2BBsAzWfe0DM7YtEtjuSau36nPPykzZ3JUlp8lDHjwknRHv+68446s7Auuh1T v2u8+VUpeg71TDjjSCMXAIACU+/hcy84h3V5Br+VNbjgEyeNfot0tOIxgLQtn+93dpbjN/9BOGd3wt k+ill2Ljb11yGuN74BCA3PjU+w3ZjEN7KhI/9rOdURBsOgAPA41gDJbgBUUrpLOvi48fbbsTHJJHBN zqz17Q843RPTQ0qtRgyayD1qPZW64zpJk8c1LKYsQKf9R3L4D6cqkPv6FPIxgDhXAZyjV/8JmootLe 7etVJEAw/pzvHdtJWdPidHhoVKmBQkB67a++EHkJpe62xlsNLq3ovvf38167aeExTDSCMVhCFuT2M7 eBM7uuanm5cuwj70UU0ZCNrVzq42+oacy9gcIM2daXbdMI0STY7ZZhvoT+n2cXuQeRxUYuhoZm+x4o EmN8y7WMAJNwBr1qKadf9uzopUPSZtXEs2FBaQRjsND/7iXigBwzsqTzdMG/H9XxLo6KUhvje3hobI zBYAoULaP77BsMnDYXZLKlZha8WRbe+xEUraY9//DRCMZgiE6ARN3yvAdm4o2CS0KX9T75lm2jrsib mruhoxGMgZAc0B0J2cOn3zHamUEqyEhXLS9X/8uTCHl4HZqhkUNHIxiDwYSalC/5qlgWdPfO2iyoO+ ZLR5fITdGoUsNHY3wPBgnKQj74FXUI+e6TpLyAF3z/6G6eASjz5uk0dDSCMRCiZChG//qPsixgtNx9 T/EY8PNfbocRlGDKrTExho5GlRoITH58xbef0uqoAZrvdkCMuk9eFMQblEJq055/6GgEYzBQcO85dw JoFVnY3SAMwdp/PatsmwgQ4dEUYAwfjSo1P0qAiIjG+NM/gQMKhJ0N8lYPIBNAoI6nXXeK5EnFAO+b 3oHDSCMY8yMvCPjgS/m5b4TRaTcKsYhRCZQRwuRl/7XPqEgz2WWYaVSpeZEckiuRl/bpt6rGaSPeaj 4CmhXIS/3AH5qiGRQ53DSCMS8oQOncI2u/d57l0Xyc7oXCqgenhJFPvD7RGbTZLoaZ5rE1LySViK5Y e8fLHErLppUL5EAOjFg49Cuv75kXdTLZ1L9h+Gh2jHlBCGBWXvBNImPcVSMpH5GX/oSvHhbFVS04G2 fUENPsGPOCkmDRv/u/vZcQs2nlwgPESOle8v3DLDl4I9jIxTDTCMa8ULgU8g9/yoXIHGHapR7Fpayr v/D5dolWSlCBCGZQyNSwRDSq1PygmP3ns6c3ul2CSwL66OOqP3kT0fholweNYMwJ1iONhBJ+fPb907 4uC/AxZ1DLw4Z/Oi8pGsFYHjSq1HxgkF54+f3TTgRDcICWITNXnnXVubOZxtewtDSCMSeqeXciWbf9 pit9MX09RRqNWYaQ89Xf2i/FNpoNY5nQCMYcIQFIbP/eFy1O31ozdx0UwWn5m58txecdkUYulgeNjT FHCAGYvvZ8oL3LLPMV462y/amXq5o1TbyWD41gzA1CgGQ3PXlrq3Bp2qsozEuXDvyHc8Qcysyauovl QiMYc4KAgCE98Soqme+qS3lePvEfDkqWJTRSsYxobIw5YmA3f81VEBLby4UAQKtquCaq4cKvH1S4DK 6Ri+VEIxhzQsQlGf3lf8HUTMDasiYgrsgQPJSW/dpn8tia699pWCoaVWpOUNgd/YdXTHzd7zA4JWU2 C8hCK/3tq8qwoqnpXnY0gjE3KHbpM8cmjIupOeQCgCvH0C7AQz97fsiaoqRlSCMYs4eAqTx8zk3bdR wUUPpWOYSAMD/rCweXecHdT1ZqGDYa1/qsIQBX5BfeNPXaicCqea2qAkRvanjNx1sEWs2OsQxp7tic YP6B/wuGKhVERFxVqKqqkkJZlhZS8L/611mQvAek5iovOxpVatYQgH3mrTEr8wKobQoBod6vWbl2n3 027Lt6v9GDVq09AMkhNm2jliWNYMyKKt2c+I8XFnAmsHx05Zr161ftt2rfDevWrVuxxnkBAEPTHGd5 0wjGrOgLxkV3nzyybp91GzaMrl6ZgaxquCFJlGaA1oLRyMZypRGMWVFpRWTKkBwoJlXFUiBEFRABDS JoZGKZ0wjGHCAkFrllDC2CAqECBMgmkLen0AjGXCBihuSQtN4YDDKxRUzEwBuWMU0cYy4IFGUOc2Ci iKLWqKrCPoKNf3a50+wYc4LmgERfR+5q0wPCZqfYQ2gEY46YRo+iBZDQOhUEQCUkE01ElvooG+ZKIx gNDTvh/wdln3DLZz5cXAAAACV0RVh0ZGF0ZTpjcmVhdGUAMjAyMS0wNS0wNlQxNjowMjozNSswMDow MJMHIL4AAAAldEVYdGRhdGU6bW9kaWZ5ADIwMjEtMDUtMDZUMTY6MDI6MzUrMDA6MDDiWpgCAAAAAE lFTkSuQmCC \" id=\"image44\" x=\"11.380744\" y=\"44.31065\" transform=\"matrix(0.93090026,-0.36527347,0.26659662,0.9638082,0,0)\"/>\n",
       "    <text xml:space=\"preserve\" style=\"font-style:normal;font-weight:normal;font-size:3.52778px;line-height:1.15;font-family:sans-serif;fill:#000000;fill-opacity:1;stroke:none;stroke-width:0.264583\" x=\"80.871506\" y=\"11.171584\" id=\"text1315\"><tspan sodipodi:role=\"line\" id=\"tspan1313\" x=\"80.871506\" y=\"11.171584\" style=\"font-size:3.52778px;stroke-width:0.264583\">Flight direction</tspan></text>\n",
       "    <ellipse style=\"fill:#000000;fill-opacity:0.242915;stroke:#000000;stroke-width:0.264999;stroke-miterlimit:4;stroke-dasharray:none;stroke-opacity:1\" id=\"path1317\" cx=\"37.877731\" cy=\"112.49984\" rx=\"26.10289\" ry=\"7.6200986\" transform=\"rotate(-37.287022)\"/>\n",
       "    <ellipse style=\"fill:#f30000;fill-opacity:0.242915;stroke:#000000;stroke-width:0.264999;stroke-miterlimit:4;stroke-dasharray:none;stroke-opacity:1\" id=\"path1319\" cx=\"53.379204\" cy=\"34.781784\" rx=\"1.2970381\" ry=\"1.4591678\"/>\n",
       "    <path style=\"fill:none;stroke:#000000;stroke-width:0.264583px;stroke-linecap:butt;stroke-linejoin:miter;stroke-opacity:1\" d=\"M 78.022934,82.934219 54.027731,36.24096 119.20378,50.18412\" id=\"path1321\"/>\n",
       "    <rect style=\"fill:#f30000;fill-opacity:0.242915;stroke:#000000;stroke-width:0.264999;stroke-miterlimit:4;stroke-dasharray:none;stroke-opacity:1\" id=\"rect1323\" width=\"3.891114\" height=\"2.9183357\" x=\"96.181473\" y=\"65.100037\"/>\n",
       "    <text xml:space=\"preserve\" style=\"font-style:normal;font-weight:normal;font-size:3.52778px;line-height:1.15;font-family:sans-serif;fill:#000000;fill-opacity:1;stroke:none;stroke-width:0.264583\" x=\"8.7115107\" y=\"6.7363935\" id=\"text1315-7\" inkscape:transform-center-x=\"-23.995204\" inkscape:transform-center-y=\"-6.4851904\"><tspan sodipodi:role=\"line\" x=\"8.7115107\" y=\"6.7363935\" style=\"font-size:3.52778px;stroke-width:0.264583\" id=\"tspan1349\">Altitude z</tspan></text>\n",
       "    <text xml:space=\"preserve\" style=\"font-style:normal;font-weight:normal;font-size:3.52778px;line-height:1.15;font-family:sans-serif;fill:#000000;fill-opacity:1;stroke:none;stroke-width:0.264583\" x=\"67.194283\" y=\"80.355873\" id=\"text1315-7-9\" inkscape:transform-center-x=\"-24.383783\" inkscape:transform-center-y=\"4.0469931\" transform=\"rotate(24.42849)\"><tspan sodipodi:role=\"line\" x=\"67.194283\" y=\"80.355873\" style=\"font-size:3.52778px;stroke-width:0.264583\" id=\"tspan1349-1\">Range y</tspan></text>\n",
       "    <text xml:space=\"preserve\" style=\"font-style:normal;font-weight:normal;font-size:3.52778px;line-height:1.15;font-family:sans-serif;fill:#000000;fill-opacity:1;stroke:none;stroke-width:0.264583\" x=\"81.685982\" y=\"36.581612\" id=\"text1315-7-6\" inkscape:transform-center-x=\"-23.995204\" inkscape:transform-center-y=\"-6.4851904\"><tspan sodipodi:role=\"line\" x=\"81.685982\" y=\"36.581612\" style=\"font-size:3.52778px;stroke-width:0.264583\" id=\"tspan1425\">Azimuth z</tspan></text>\n",
       "    <text xml:space=\"preserve\" style=\"font-style:normal;font-weight:normal;font-size:3.52778px;line-height:1.15;font-family:sans-serif;fill:#000000;fill-opacity:1;stroke:none;stroke-width:0.264583\" x=\"99.520256\" y=\"63.495155\" id=\"text1315-7-4\" inkscape:transform-center-x=\"-23.995204\" inkscape:transform-center-y=\"-6.4851904\"><tspan sodipodi:role=\"line\" x=\"99.520256\" y=\"63.495155\" style=\"font-size:3.52778px;stroke-width:0.264583\" id=\"tspan1349-5\">Target (x',y',z')</tspan><tspan sodipodi:role=\"line\" x=\"99.520256\" y=\"67.552101\" style=\"font-size:3.52778px;stroke-width:0.264583\" id=\"tspan1441\"/></text>\n",
       "    <text xml:space=\"preserve\" style=\"font-style:normal;font-weight:normal;font-size:3.52778px;line-height:1.15;font-family:sans-serif;fill:#000000;fill-opacity:1;stroke:none;stroke-width:0.264583\" x=\"7.523078\" y=\"46.522217\" id=\"text1315-7-97\" inkscape:transform-center-x=\"-16.87529\" inkscape:transform-center-y=\"-18.575245\" transform=\"rotate(-32.227739)\"><tspan sodipodi:role=\"line\" x=\"7.523078\" y=\"46.522217\" style=\"font-size:3.52778px;stroke-width:0.264583\" id=\"tspan1349-4\">Platform (x,y,z)</tspan></text>\n",
       "  </g>\n",
       "</svg>"
      ],
      "text/plain": [
       "<IPython.core.display.SVG object>"
      ]
     },
     "execution_count": 2,
     "metadata": {},
     "output_type": "execute_result"
    }
   ],
   "source": [
    "SVG(filename='Polyphemus/img/SAR_Platform_Geometry.svg')"
   ]
  },
  {
   "cell_type": "markdown",
   "metadata": {},
   "source": [
    "The SAR Platform is airborne or in orbit at altitude $z$.  It moves along its flight direction $x$ at a constant velocity $v$.  "
   ]
  },
  {
   "cell_type": "markdown",
   "metadata": {},
   "source": [
    "At a given moment in flight, a mm wave pulse is transmitted from the side of the aircraft along the range, or $y$, direction. The pulse will illuminate the ground within the range of its beam footprint. Some of the beam energy will reflect back to the aircraft. We will approximate that, relative to the speed of light, the aircraft is moving slowly, so each reflection is received at a point near where it was transmitted.  The returned signal will then be a range-averaged reflectivity of the ground convolved with the beam pattern (distribution of the antenna pattern on the ground), combbined with a dissipation and delay factor as the beam makes its return trip to the receiver.\n",
    "\n",
    "For a given pulse, then, we receive an \"echo' signal in the time domain. Resolution can be quite fine in the range direction, depending on the sampling rate of the time-domain signal, and the wavelength of the pulse.  However, resolution on the $x$ direction, also called **azimuth** or **cross-range**, is not so good.  The ability to resolve points in the $x$ direction will be limited by the beamwidth of the antenna pattern, as it spreads with increasing range.\n",
    "\n",
    "Lets take two typical examples:\n",
    "\n",
    "|radar band | antenna length | range | azimuth resolution|\n",
    "|----|----|----|----|\n",
    "|X band (10GHz) | 1m | 10km | 300m|\n",
    "|C-band (5Hz) | 10m | 770km | 4.6km |\n",
    "\n",
    "The X-band case could be an airborne SAR and the C-band could be a low-earth-orbit vehicle.  Resolution is very poor.  Improving it would require massive antennas or very high frequency radiation.\n",
    "\n",
    "The SAR alternative is to combine the data from several radar bursts and use post-processing to \"refocus\" the raw data and produce an image of the scanned surface.\n",
    "In effect, the moving platform and the post-processing produce a synthesized massive antenna.\n",
    "\n",
    "The vehicle collects a certain number of echoes as it moves, over a period of time called the *aperture time*, $T_a$.  The size of the aperture $D_{SAR}$ will be given by the product of the aperture time and the veolcity of the platform. \n",
    "\n",
    "$$D_{SAR} = v T_a.$$\n",
    "\n",
    "The seemingly incredible result of post-processing all of the data collected over the aperture is that the resolution in the $x$ direction is now independent of range-to-target, and highly dependent on the data processing capacity of the SAR system.  Also, surprisingly, a smaller antenna (which leads to a wider beam and expands the effective aperture) leads to a higher cross-range resolution as well.\n",
    "\n",
    "Using SAR, for example, typical resolution from the previous examples is upgraded by 1000x:\n",
    "\n",
    "|radar band | antenna length | range | azimuth resolution|\n",
    "|----|----|----|----|\n",
    "|X band (10GHz) | 1m | 10km | 0.5m |\n",
    "|C-band (5Hz) | 10m | 770km | 5m |"
   ]
  },
  {
   "cell_type": "markdown",
   "metadata": {},
   "source": [
    "## Range to Target\n",
    "\n",
    "We will consider a specific scatterer within the aperture.\n",
    "\n",
    "Since the platform is moving in the $x$ direction, we will consider the distance to the scatterer to be dependent on $u$, the current position of the platform on the $x$-axis.\n",
    "\n",
    "The range from the airborne platform at position $(u,0,z)$ to a scatterer $P$ on the ground at $(x_p, y_p, 0)$ is the Euclidean distance:\n",
    "\n",
    "$$R(u)=\\sqrt{(u-x_p)^2 +y_p^2 + h^2}.$$\n",
    "\n",
    "Let $R_p$ be the range of closest-approach between the platform and the scatterer.\n",
    "\n",
    "$$R_p^2=x_p^2+y_p^2+h^2.$$\n",
    "\n",
    "Then \n",
    "\n",
    "$$R(u) = R_p\\sqrt{1+\\frac{(u-xp)^2}{R_p^2}}.$$\n",
    "\n",
    "*In other words, the range from platform to target will vary quadratically. as data is collected.*"
   ]
  },
  {
   "cell_type": "markdown",
   "metadata": {},
   "source": [
    "## Phase\n",
    "\n",
    "The received phase of the echo is shifted by an amount proportional to range.\n",
    "\n",
    "$$\\phi(u)=-\\frac{4\\pi R(u)}{\\lambda}.$$\n",
    "\n",
    "So, the phase of an echo received from a scatterer will also vary quadratically."
   ]
  },
  {
   "cell_type": "markdown",
   "metadata": {},
   "source": [
    "## Instantaneous Spatial Frequency and Bandwidth\n",
    "\n",
    "We can approximate $R(u)$ with a series expansion:\n",
    "\n",
    "$$R(u)\\approx R_p + \\frac{u^2}{2 R_p} - \\frac{u x_p}{R_p} + \\frac{x_p^2}{2R_p}.$$\n",
    "\n",
    "If the aperture is much smaller than the range to target, we can neglect the higher order terms and further approximate:\n",
    "\n",
    "$$R(u)\\approx R_p + \\frac{u^2}{2 R_p}. $$\n",
    "\n",
    "The phase received from a scatterer can then be approximated as:\n",
    "\n",
    "$$\\phi(u)\\approx - \\left(\\frac{4 \\pi}{\\lambda} \\right)\\left[R_p + \\frac{u^2}{R_p}\\right].$$\n",
    "\n",
    "We can no analytically find the instantaneous spatial frequency $k_u$ which we define as $d\\phi /du$ by differentiating:\n",
    "\n",
    "$$d\\phi \\approx -\\frac{4\\pi}{\\lambda}\\left(\\frac{2u du}{2R_p}\\right). $$\n",
    "Expressing $u$ as x position relative to the position of closest approach,\n",
    "\n",
    "$$k_u=\\frac{d\\phi}{du}\\approx -\\frac{4 \\pi}{\\lambda} \\frac{u-x_p}{R_p}.$$ \n",
    "\n",
    "As a consequence of the limited aperture size $D_{SAR}$, the possible values of $k_u$ will be limited to a sweep across a bandwidth $BW$, where\n",
    "\n",
    "$$BW = 4\\pi / (\\lambda R_0) \\times D_{SAR}.$$"
   ]
  },
  {
   "cell_type": "markdown",
   "metadata": {},
   "source": [
    "## x-position\n",
    "\n",
    "Now that we have $k_u$, it is possible to determine the $x$ position from the phase.\n",
    "\n",
    "$$(u-x_p) = k_u \\frac{\\lambda R_p}{4 \\pi}$$. "
   ]
  },
  {
   "cell_type": "code",
   "execution_count": 3,
   "metadata": {},
   "outputs": [],
   "source": [
    "#Aircraft parameters\n",
    "v = 100 # aircraft velocity in meters/second\n",
    "z = 3.e3 #aircraft altitude in meters\n",
    "y = 0 #aircraft ground range coordinates"
   ]
  },
  {
   "cell_type": "markdown",
   "metadata": {},
   "source": [
    "## Radar Pulse\n",
    "The SAR system emits a brief pulse of frequency-modulated modulated radio energy and then receives the radio energy reflected back.  The radio frequency spectrum is conventionally divided into named bands, for example the L-band between 1 and 2 GHz. The carrier signal $f_0$, for example, could be 1.5 GHz.\n",
    "\n",
    "The wavelength of the carrier is provided by the relation $\\lambda=c/f_0$.\n",
    "\n",
    "The corresponding carrier wavenumber is \n",
    "$k_0=2 \\pi /\\lambda.$\n",
    "\n",
    "and the angular frequency of the carrier is \n",
    "$\\omega_0=2 \\pi f_0.$\n",
    "\n",
    "The unmodulated carrier signal is:\n",
    "$f(t)=\\exp(j \\omega_0 t). $\n",
    "\n",
    "The movement of the platform along the $x$-axis effects a linear frequency modulation on the carrier due to the Doppler effect. The bandwidth is given by the previously-derived $BW$ which was the total range of $k_u$ that could be swept across the entire SAR aperture. We simplify by considering the frequency modulation to act like a bandpass filter of width $BW.$ In the time domain, this results in a sinc function.\n",
    "\n",
    "$$l(t)=sinc(\\pi BW t)$$.\n",
    "\n",
    "The total modulated signal for a single pulse is therefore given by:\n",
    "\n",
    "$$p(t)=l(t)f(t)=sinc(\\pi BW t) \\exp(j \\omega_0 t)$$.\n",
    "\n",
    "The pulse is represented digitally by a series of samples collected at a sampling rate sufficient to reconstruct the given bandwidth."
   ]
  },
  {
   "cell_type": "markdown",
   "metadata": {},
   "source": [
    "## Reflection of Pulse and Reception\n",
    "\n",
    "After the pulse is emitted, the wavefront propagates at the speed of light and will encounter scatterers.  Depending on the surface roughness, dielectric characteristics and orientation of the scatterers, a signal will reflect back towards the SAR platform, and the signal over time will be recorded.\n",
    "\n",
    "Distance from platform to scatterer is:\n",
    "\n",
    "$$r'=\\sqrt{(x-x')^2+(y-y')^2+(z-z')^2}$$\n",
    "\n",
    "Note that this is half the total distance travelled by a reflected beam received at the platform.\n",
    "\n",
    "Propagation time to and from will be twice the travel time to the scatterer, which is the scatterer's distance $r'$ divided by the speed of light $c$.\n",
    "\n",
    "$$t=\\frac{2 r'} {c}$$.\n",
    "\n",
    "The intensity of the radiation dissipated to the square of the distance to the target, so the returning signal is scalled by $1/r'^2$.\n",
    "\n",
    "The strength of the emitted beam is shaped rather than spherical. Assuming a linear antenna with length L, accounting for propagation in two dimensions and neglecting elevation dependence, the shape of the beam is given by:\n",
    "$$B(x,y,z,x',y')=sinc^2\\left(\\frac{\\omega_o L (x-x_m)}{2}\\right)$$\n",
    "\n",
    "In the general case, the reflected beam $S(x,t)$ will be proportional to a convolution of the beam shape over the distribution of the scatterign coefficient on the ground. we will consider ideal point targets characterized by a complex backscattering cross section $\\sigma.$\n",
    "\n",
    "Extracting only the baseband (removing the carrier frequency,) the reflected signal is given by:\n",
    "\n",
    "$$S_B=e^{-j\\omega_0t} S(x,t)$$\n",
    "\n",
    "Summing over $m$ discrete targets, \n",
    "$$=\\sum_m \\sigma_m \\frac{l(t-2r'_m/c)}{{r'_m}^2} \\times \\exp\\left({-j\\omega_0 2 r'_m/c}\\right) B(x,y,z,x'_m,y'_m,z'_m)$$\n",
    "\n",
    "Substituting for $B,$\n",
    "$$=\\sum_m \\sigma_m \\frac{l(t-2r'_m/c)}{{r'_m}^2} \\times \\exp\\left({-j\\omega_0 2 r'_m/c}\\right) sinc^2\\left(\\frac{\\omega_o L (x-x_m)}{2}\\right)$$"
   ]
  },
  {
   "cell_type": "markdown",
   "metadata": {},
   "source": [
    "The scatterer will interact with the beam according to its radar backscattering cross-section, which may be complex and is denoted $\\sigma $. "
   ]
  },
  {
   "cell_type": "markdown",
   "metadata": {},
   "source": [
    "The final detected signal from a single scatterer will be the product of the radar pulse waveform, the pulse envelope, the 2-d beam shape, and the dissipation factor."
   ]
  },
  {
   "cell_type": "code",
   "execution_count": 4,
   "metadata": {},
   "outputs": [],
   "source": [
    "scatterers=[{'x':490,'y':8000,'z':0,'scattering_coef':1},\n",
    "           {'x':500,'y':8010,'z':0,'scattering_coef':1}]#,\n",
    "#           {'x':530,'y':8050,'z':0,'scattering_coef':1},\n",
    "#           {'x':510,'y':8000,'z':0,'scattering_coef':10}]"
   ]
  },
  {
   "cell_type": "code",
   "execution_count": 5,
   "metadata": {},
   "outputs": [],
   "source": [
    "sim_params={'N_pulses':1024, #number of radar pulses emitted by aircraft\n",
    "             'xmin':0,       #starting x coordinate position of aircraft\n",
    "             'N_samples':256,#number of samples i nthe time domain for each pulse\n",
    "             'rmin':8500,    #minimum range of simulation (for plotting)\n",
    "             'c':3.e8        #speed of light (m/s)\n",
    "           }\n",
    "\n",
    "sim_params['tmin']=2*sim_params['rmin']/sim_params['c']\n"
   ]
  },
  {
   "cell_type": "code",
   "execution_count": 6,
   "metadata": {},
   "outputs": [],
   "source": [
    "platform={'v': 100,   #aircraft velocity (m/s)\n",
    "          'z': 3.e3,  #aircraft altitude (m)\n",
    "          'y': 0.,    #aircraft ground range coordinate\n",
    "          'f0':1.5e9, #carrier frequency (Hz)\n",
    "          'azres':1.0,#theoretical azimuth resolution (m)\n",
    "          'BW':1.5e8, #pulse bandwidth (Hz)\n",
    "          'sample_rate':3.e8} # (Hz)\n",
    "platform['wavelength']=sim_params['c']/platform['f0']\n",
    "platform['k0']=2*np.pi/platform['wavelength']\n",
    "platform['omega0']=2*np.pi*platform['f0']\n",
    "platform['L']=2*platform['azres']"
   ]
  },
  {
   "cell_type": "code",
   "execution_count": 7,
   "metadata": {},
   "outputs": [],
   "source": [
    "def scatterer_reflection(platform, scatterer, sim_params, beam_factor, pulse_factor, tscat):\n",
    "    dt=1/platform['sample_rate']\n",
    "    s=np.zeros((sim_params['N_samples']),dtype=complex)\n",
    "    for it in range(0,sim_params['N_samples']):\n",
    "        t=sim_params['tmin']+(it-1)*dt #time of current sample\n",
    "        pfac = pulse_factor*np.sinc(platform['BW']*(t-tscat)) #sinc pulse envelope. flat spectrum in bandwidth\n",
    "        s[it]=scatterer['scattering_coef']*pfac*beam_factor #contribution for this scatterer   \n",
    "    return s"
   ]
  },
  {
   "cell_type": "code",
   "execution_count": 8,
   "metadata": {},
   "outputs": [],
   "source": [
    "def pulse_return_signal(platform,scatterers, sim_params,x):\n",
    "    s=np.zeros((sim_params['N_samples']),dtype=complex)\n",
    "    for scatterer in scatterers:\n",
    "        r=np.sqrt((x-scatterer['x'])**2. + \n",
    "                  (platform['y']-scatterer['y'])**2. +\n",
    "                  (platform['z']-scatterer['z'])**2.)\n",
    "        tscat = 2*r/sim_params['c'] #roundtrip propagation time\n",
    "\n",
    "        pulse_factor=np.exp(np.complex(0.-platform['omega0']*r/sim_params['c']*2j)) #carrier freq\n",
    "        sinc_arg = platform['k0']*platform['L']/2*(scatterer['x']-x)/r\n",
    "\n",
    "        beam_factor = np.power(np.sinc(sinc_arg/np.pi),2)/r/r\n",
    "        s+=scatterer_reflection(platform,scatterer, sim_params, beam_factor, pulse_factor,tscat)\n",
    "    return s"
   ]
  },
  {
   "cell_type": "code",
   "execution_count": 9,
   "metadata": {},
   "outputs": [],
   "source": [
    "def aircraft_SAR_acquisition(platform, scatterers,sim_params):\n",
    "    s=np.zeros((sim_params['N_samples']),dtype=complex)\n",
    "    for ix in range(0,sim_params['N_pulses']):\n",
    "        x=sim_params['xmin'] +(ix-1)*platform['azres'] #radar x coordinate\n",
    "        s=np.vstack([s,pulse_return_signal(platform,scatterers,sim_params,x)])\n",
    "    return s[1:,:]"
   ]
  },
  {
   "cell_type": "code",
   "execution_count": 10,
   "metadata": {},
   "outputs": [],
   "source": [
    "s=aircraft_SAR_acquisition(platform,scatterers,sim_params)"
   ]
  },
  {
   "cell_type": "code",
   "execution_count": 11,
   "metadata": {},
   "outputs": [],
   "source": [
    "%matplotlib inline"
   ]
  },
  {
   "cell_type": "code",
   "execution_count": 12,
   "metadata": {},
   "outputs": [],
   "source": [
    "import matplotlib.pyplot as plt\n",
    "import matplotlib.image as mpimg\n",
    "from colorsys import hls_to_rgb\n",
    "def colorize(z):\n",
    "    r = np.abs(z)\n",
    "    arg = np.angle(z) \n",
    "\n",
    "    h = (arg + np.pi)  / (2 * np.pi) + 0.5\n",
    "    l = 1.0 - 1.0/(1.0 + r**0.3)\n",
    "    s = 0.8\n",
    "\n",
    "    c = np.vectorize(hls_to_rgb) (h,l,s) # --> tuple\n",
    "    c = np.array(c)  # -->  array of (3,n,m) shape, but need (n,m,3)\n",
    "    c = c.swapaxes(0,2) \n",
    "    return c"
   ]
  },
  {
   "cell_type": "code",
   "execution_count": null,
   "metadata": {},
   "outputs": [],
   "source": []
  },
  {
   "cell_type": "code",
   "execution_count": 13,
   "metadata": {},
   "outputs": [
    {
     "data": {
      "image/png": "[encoded data removed]",
      "text/plain": [
       "<Figure size 432x288 with 1 Axes>"
      ]
     },
     "metadata": {
      "needs_background": "light"
     },
     "output_type": "display_data"
    }
   ],
   "source": [
    "smag=np.abs(s)**2\n",
    "img=colorize(smag/np.max(np.abs(smag)))\n",
    "plt.imshow( img) #/np.power(np.max(np.real(s)),2))# img)\n",
    "plt.show()"
   ]
  },
  {
   "cell_type": "markdown",
   "metadata": {},
   "source": [
    "## SAR Processing\n",
    "\n",
    "We have simulated the acquisition of stripmap SAR data, a series of time-domain \"echoes\" from a radar chirp pulse collected from a moving airborne platform. We now want to reconstruct the *image* of the scatterer placement in the *ground range.* From this we will identify the placement of the targets on the ground-range coordinate system.\n",
    "\n",
    "### Range Migration Algorithm\n",
    "\n",
    " \n",
    "The range migration algorithm transforms the collected data, which is given by $S_B(x,t)$ and in terms of $x$ and $t$, into an image that shows the positions of the targets in range coordinates, $C(x_0,y_0)$. It does this by first transforming the data from (x,t) into the frequency domain $(k_u,\\omega)$ using an FFT. \n",
    "\n",
    "$$\\bar S(k_u,\\omega)=\\int S_B(x,t) e^{-jk_u x - j \\omega t} dx d.$$\n",
    "\n",
    "\n",
    "The term $k_u$ was defiend previously as the instantaneous spatial frequency along the x-direction. From $k_x$ and $\\omega$ it is possible to reconstruct $k_y$ using the relationship:\n",
    "\n",
    "$$k_y=\\sqrt{\\left(\\frac{2\\omega}{c}\\right)^2-{k_x}^2}.$$\n",
    "\n",
    "We interpolate from the $\\omega-space$ onto the $y$-space for each pair $(k_x,\\omega)$ to calculate\n",
    "\n",
    "$$\\bar S(k_u,k_y)$$\n",
    "\n",
    "We then change variables from wave\n",
    "=\\int S_B(x,t) e^{-jk_u x - j \\omega t} dx d.$$"
   ]
  },
  {
   "cell_type": "code",
   "execution_count": 14,
   "metadata": {},
   "outputs": [],
   "source": [
    "omega0= 2* np.pi * platform['f0']    # angular frequency of carrier signal\n",
    "k0 = 2*omega0/sim_params['c']        # wavenumber corresponding to omega0\n",
    "dt=1/platform['sample_rate']         # time domain grid spacing in (s) is 1/sampling rate Hz\n",
    "dr=dt*sim_params['c']/2              # range domain grid spacing (m) is scaled from time domain grid by c/2 (m/s)\n",
    "nx,nr = np.shape( s )         # copy grid dimensions from acquired data\n",
    "nt = nr                              # number of samples in time domain is same as range\n",
    "dx=platform['azres']\n",
    "#pad data to next power of 2 in azimuth and range dimensions to prepr for FFT\n",
    "\n",
    "px = int(np.ceil(np.log2(nx)))\n",
    "nkx= np.power(2,px)\n",
    "pr = int(np.ceil(np.log2(nr)))\n",
    "nkr = np.power(2, pr+1)\n",
    " \n",
    "xpad=(nkx-nx)\n",
    "rpad=(nkr-nr)\n",
    "#    print(nkx,nx,nkr,nr,xpad,np.ceil(xpad),np.floor(xpad),rpad)\n",
    "\n",
    "data_padded = np.pad(s,((0,xpad),(0,rpad)))"
   ]
  },
  {
   "cell_type": "markdown",
   "metadata": {},
   "source": [
    "#### FFT\n",
    "\n",
    "The first step in the algorithm is to convert the acquired data into the frequency domain with a 2D FFT. To prepare for the FFT, we place the acquired data into a matrix with dimensions set at the smallest powers-of-two that can contain all of the original data, padding with zeros if necessary."
   ]
  },
  {
   "cell_type": "code",
   "execution_count": 15,
   "metadata": {},
   "outputs": [
    {
     "data": {
      "image/png": "[encoded data removed]",
      "text/plain": [
       "<Figure size 432x288 with 1 Axes>"
      ]
     },
     "metadata": {
      "needs_background": "light"
     },
     "output_type": "display_data"
    }
   ],
   "source": [
    "nx,nr = np.shape( s )         # copy grid dimensions from acquired data\n",
    "nt = nr                              # number of samples in time domain is same as range\n",
    "\n",
    "#pad data to next power of 2 in azimuth and range dimensions to prepr for FFT\n",
    "\n",
    "px = int(np.ceil(np.log2(nx)))\n",
    "nkx= np.power(2,px)\n",
    "pr = int(np.ceil(np.log2(nr)))\n",
    "nkr = np.power(2, pr+1)  #doubled resolution for nyquist sampling criteria (no aliasing)\n",
    " \n",
    "xpad=(nkx-nx)\n",
    "rpad=(nkr-nr)\n",
    "#    print(nkx,nx,nkr,nr,xpad,np.ceil(xpad),np.floor(xpad),rpad)\n",
    "\n",
    "data_padded = np.pad(s,((0,xpad),(0,rpad)))\n",
    "smag=np.abs(data_padded)**2\n",
    "img=colorize(smag/np.max(np.abs(smag)))\n",
    "plt.imshow( img) #/np.power(np.max(np.real(s)),2))# img)\n",
    "plt.show()"
   ]
  },
  {
   "cell_type": "markdown",
   "metadata": {},
   "source": [
    "To prepare for the change of variables into frequency domain, we rescale into Omega-K space. "
   ]
  },
  {
   "cell_type": "code",
   "execution_count": 16,
   "metadata": {},
   "outputs": [],
   "source": [
    "\n",
    "\n",
    "dkx = 2*np.pi/(nkx*dx)                            #azimuth frequency resolution\n",
    "dkr = 2*np.pi/(nkr*dr)  #sampling in freq domain must be at 2x resolution for nyquist\n",
    "kxmin = -(nkx/2-1)*dkx     #min value of azimuth freq\n",
    "krmin = -(nkr/2-1)*dkr+k0  #min value of range frequency\n",
    "\n",
    "domega = 2*np.pi/(nkr)*platform['sample_rate']     #angular frequency resolution corresponding to range\n",
    "omegamin=-(nkr/2-1)*domega+omega0\n",
    "\n",
    "#create vectors of azimuth, range and angular freq vectors\n",
    "kx = kxmin +np.arange(0,nkx)*dkx\n",
    "kr = krmin +np.arange(0,nkr)*dkr\n",
    "omega = omegamin + np.arange(0,nkr)*domega"
   ]
  },
  {
   "cell_type": "markdown",
   "metadata": {},
   "source": [
    "Now we perform the 2D FFT on the padded acquired data and shift it for convenience."
   ]
  },
  {
   "cell_type": "code",
   "execution_count": 17,
   "metadata": {},
   "outputs": [
    {
     "data": {
      "image/png": "[encoded data removed]",
      "text/plain": [
       "<Figure size 432x288 with 1 Axes>"
      ]
     },
     "metadata": {
      "needs_background": "light"
     },
     "output_type": "display_data"
    }
   ],
   "source": [
    "data_omega_k = sfft.fftshift(sfft.fft2(data_padded))\n",
    "\n",
    "smag=np.abs(data_omega_k)**2\n",
    "img=colorize(smag/np.max(np.abs(smag)))\n",
    "plt.imshow( img) #/np.power(np.max(np.real(s)),2))# img)\n",
    "plt.show()"
   ]
  },
  {
   "cell_type": "code",
   "execution_count": 18,
   "metadata": {},
   "outputs": [],
   "source": [
    "image= np.zeros((nkx,nkr),dtype=np.complex)\n",
    "weight = np.kaiser(nkx,4) #window to reduce sidelobes\n",
    "for ikr in range(nkr):\n",
    "\n",
    "    for ikx in range(nkx):\n",
    "        k=np.sqrt(kx[ikx]**2+kr[ikr]**2)\n",
    "\n",
    "        om=sim_params['c']*k/2.\n",
    "        iom = np.int(np.floor((om-omegamin)/domega))\n",
    "        if (iom>=nkr-1):\n",
    "            image[ikx,ikr]=0\n",
    "        else:\n",
    "            del_om = om-((iom)*domega+omegamin)\n",
    "            jacobian = kr[ikr]/k\n",
    "            image[ikx,ikr] = (data_omega_k[ikx,iom]) + \\\n",
    "                    (data_omega_k[ikx,iom+1] - \\\n",
    "                         data_omega_k[ikx,iom]) * del_om/domega\n",
    "            image[ikx,ikr]=image[ikx,ikr]*jacobian *\\\n",
    "                           np.exp(0-(k-kr[ikr])*sim_params['rmin']*1.j) * \\\n",
    "                                weight[ikx]\n",
    "image=sfft.ifft2(sfft.ifftshift(image))[0:nx,0:nr]\n"
   ]
  },
  {
   "cell_type": "code",
   "execution_count": null,
   "metadata": {},
   "outputs": [],
   "source": []
  },
  {
   "cell_type": "code",
   "execution_count": null,
   "metadata": {},
   "outputs": [],
   "source": []
  },
  {
   "cell_type": "code",
   "execution_count": 21,
   "metadata": {},
   "outputs": [],
   "source": [
    "import numpy as np \n",
    "import scipy.fft as sfft\n",
    "\n",
    "def RangeMigrationAlgorithm( raw_data, dx, dr, r0, f0):\n",
    "    \"\"\"\n",
    "    adapted from 'Systems engineering of phased arrays' yb sturdivant et. al\n",
    "    \n",
    "    INPUT\n",
    "    raw_data is a complex array, dimensions nx by nr, \n",
    "        where x is azimuth and r is range coordinates.\n",
    "    dx, dr = x and r grid sizes (pitch)\n",
    "    r0 = starting range of data\n",
    "    f0 = signal center frequency\n",
    "\n",
    "    OUTPUT\n",
    "\n",
    "    image is an nx by nr complex image\n",
    "\n",
    "    \"\"\"\n",
    "    pi=np.pi\n",
    "    c = 3.e8              # speed of light in m/s\n",
    "    omega0= 2* pi * f0    # angular frequency of signal\n",
    "    k0 = 2*omega0/c       # wavenumber corresponding to omega0\n",
    "    dt = 2*dr /c          # range grid size div by c is time in range domain\n",
    "    nx,nr = np.shape( raw_data ) \n",
    "    nt = nr               # number of samples in time domain is same as range\n",
    "    \n",
    "    #pad data to next power of 2 in azimuth and range dimensions\n",
    " \n",
    "    px = int(np.ceil(np.log2(nx)))\n",
    "    nkx= np.power(2,px)\n",
    "    pr = int(np.ceil(np.log2(nr)))\n",
    "    nkr = np.power(2, pr+1)\n",
    " \n",
    "#    print(px,nkx,pr,nkr)\n",
    "    #define fourier domain grid parameters\n",
    "    dkx = 2*pi/(nkx*dx)     #azimuth frequency resolution\n",
    "    dkr = 2*pi/(nkr*dr)     #range frequency resolution\n",
    "    kxmin = -(nkx/2-1)*dkx     #min value of azimuth freq\n",
    "    krmin = -(nkr/2-1)*dkr+k0  #min value of range frequency\n",
    "    domega = 2*pi/(nkr*dt)     #angular frequency resolution corresponding to range\n",
    "    omegamin=-(nkr/2-1)*domega+omega0\n",
    "  \n",
    "    #create vectors of azimuth, range and angular freq vectors\n",
    "    kx = kxmin +np.arange(0,nkx)*dkx\n",
    "    kr = krmin +np.arange(0,nkr)*dkr\n",
    "    omega = omegamin + np.arange(0,nkr)*domega\n",
    "    #pad data to next power of 2 and fft\n",
    "\n",
    "    xpad=(nkx-nx)\n",
    "    rpad=(nkr-nr)\n",
    "    data_padded = np.pad(raw_data,((0,xpad),(0,rpad)))\n",
    "    data_omega_k = sfft.fftshift(sfft.fft2(data_padded))\n",
    "\n",
    "\n",
    "    weight = np.kaiser(nkx,4) #window to reduce sidelobes\n",
    "    image= np.zeros((nkx,nkr),dtype=np.complex)\n",
    "\n",
    "    for ikr in range(nkr):\n",
    "\n",
    "        for ikx in range(nkx):\n",
    "            k=np.sqrt(kx[ikx]**2+kr[ikr]**2)\n",
    "\n",
    "            om=c*k/2.\n",
    "            iom = np.int(np.floor((om-omegamin)/domega))\n",
    "            if (iom>=nkr-1):\n",
    "                image[ikx,ikr]=0\n",
    "            else:\n",
    "                del_om = om-((iom)*domega+omegamin)\n",
    "                jacobian = kr[ikr]/k\n",
    "\n",
    "                image[ikx,ikr] = (data_omega_k[ikx,iom]) + \\\n",
    "                        (data_omega_k[ikx,iom+1] - \\\n",
    "                             data_omega_k[ikx,iom]) * del_om/domega\n",
    "                image[ikx,ikr]=image[ikx,ikr]*jacobian *\\\n",
    "                               np.exp(0-(k-kr[ikr])*r0*1.j) * \\\n",
    "                                    weight[ikx]\n",
    "    image=sfft.ifft2(sfft.ifftshift(image))\n",
    "\n",
    "    return image[0:nx,0:nr]\n",
    "\n",
    "\n"
   ]
  },
  {
   "cell_type": "code",
   "execution_count": null,
   "metadata": {},
   "outputs": [],
   "source": []
  },
  {
   "cell_type": "code",
   "execution_count": 22,
   "metadata": {},
   "outputs": [],
   "source": [
    "dt=1/platform['sample_rate']\n",
    "dr=dt*sim_params['c']/2\n",
    "image=RangeMigrationAlgorithm(s,platform['azres'],dr,sim_params['rmin'],platform['f0'])"
   ]
  },
  {
   "cell_type": "code",
   "execution_count": null,
   "metadata": {},
   "outputs": [],
   "source": []
  },
  {
   "cell_type": "code",
   "execution_count": null,
   "metadata": {},
   "outputs": [],
   "source": []
  },
  {
   "cell_type": "markdown",
   "metadata": {},
   "source": [
    "If the duration of the emitted pulses $\\delta_\\tau$ are short we can approximate that the platform is stable during the pulse and its return. For each pulse, the platform moves $\\delta_x = v \\delta_\\tau$.\n",
    "\n",
    "\n",
    "It emits a pulse directed along the y-axis at regular intervals. Each pulse illuminates an area on the ground, which contains one or more targets which scatter the radiation.\n",
    "\n",
    "If the duration of the emitted pulses $\\delta_\\tau$ are short we can approximate that the platform is stable during the pulse and its return. For each pulse, the platform moves $\\delta_x=v \\delta_\\tau$.\n",
    "\n",
    "| Quantity | Example Value |\n",
    "|----|----|\n",
    "| Frequency (L-Band) | f=1.5 GHz |\n",
    "| Bandwidth | B = 150 MHz |\n",
    "| Slant range resolution | deltar_R = 1m |\n",
    "| Pulse repetition frequency (PRF) | 100 Hz |\n",
    "| Antenna length | L=2m |\n",
    "| Azimuthal resolution | delta_AZ = 1m |\n",
    "| Platform velocity | v=100 m/s |\n",
    "| Platform altitude | z=3 km |\n",
    "| Sample rate | 300 MHz |"
   ]
  },
  {
   "cell_type": "code",
   "execution_count": 25,
   "metadata": {},
   "outputs": [],
   "source": [
    "import numpy as np \n",
    "import scipy.fft as sfft\n",
    "\n",
    "def RangeMigrationAlgorithm( raw_data, dx, dr, r0, f0):\n",
    "    \"\"\"\n",
    "    adapted from 'Systems engineering of phased arrays' yb sturdivant et. al\n",
    "    \n",
    "    INPUT\n",
    "    raw_data is a complex array, dimensions nx by nr, \n",
    "        where x is azimuth and r is range coordinates.\n",
    "    dx, dr = x and r grid sizes (pitch)\n",
    "    r0 = starting range of data\n",
    "    f0 = signal center frequency\n",
    "\n",
    "    OUTPUT\n",
    "\n",
    "    image is an nx by nr complex image\n",
    "\n",
    "    \"\"\"\n",
    "    pi=np.pi\n",
    "    c = 3.e8              # speed of light in m/s\n",
    "    omega0= 2* pi * f0    # angular frequency of signal\n",
    "    k0 = 2*omega0/c       # wavenumber corresponding to omega0\n",
    "    dt = 2*dr /c          # range grid size div by c is time in range domain\n",
    "    nx,nr = np.shape( raw_data ) \n",
    "    nt = nr               # number of samples in time domain is same as range\n",
    "    \n",
    "    #extend indices to pad data to next power of 2 in azimuth and range dimensions\n",
    " \n",
    "    px = int(np.ceil(np.log2(nx)))\n",
    "    nkx= np.power(2,px)\n",
    "    pr = int(np.ceil(np.log2(nr)))\n",
    "    nkr = np.power(2, pr+1)\n",
    " \n",
    "    #define fourier domain grid parameters\n",
    "    dkx = 2*pi/(nkx*dx)     #azimuth frequency resolution\n",
    "    dkr = 2*pi/(nkr*dr)     #range frequency resolution\n",
    "    kxmin = -(nkx/2-1)*dkx     #min value of azimuth freq\n",
    "    krmin = -(nkr/2-1)*dkr+k0  #min value of range frequency\n",
    "    domega = 2*pi/(nkr*dt)     #angular frequency resolution corresponding to range\n",
    "    omegamin=-(nkr/2-1)*domega+omega0\n",
    "  \n",
    "    #create vectors of azimuth, range and angular freq vectors\n",
    "    kx = kxmin +np.arange(0,nkx)*dkx\n",
    "    kr = krmin +np.arange(0,nkr)*dkr\n",
    "    omega = omegamin + np.arange(0,nkr)*domega\n",
    "\n",
    "    #pad data to next power of 2 and fft\n",
    "\n",
    "    xpad=(nkx-nx)\n",
    "    rpad=(nkr-nr)\n",
    "\n",
    "\n",
    "    data_padded = np.pad(raw_data,((0,xpad),(0,rpad)))\n",
    "    data_omega_k = sfft.fftshift(sfft.fft2(data_padded))\n",
    "\n",
    "    weight = np.kaiser(nkx,4) #window to reduce sidelobes\n",
    "    image= np.zeros((nkx,nkr),dtype=np.complex)\n",
    "\n",
    "    for ikr in range(nkr):\n",
    "\n",
    "        for ikx in range(nkx):\n",
    "            k=np.sqrt(kx[ikx]**2+kr[ikr]**2)\n",
    "\n",
    "            om=c*k/2.\n",
    "            iom = np.int(np.floor((om-omegamin)/domega))\n",
    "            if (iom>=nkr-1):\n",
    "                image[ikx,ikr]=0\n",
    "            else:\n",
    "                del_om = om-((iom)*domega+omegamin)\n",
    "                jacobian = kr[ikr]/k\n",
    "                image[ikx,ikr] = (data_omega_k[ikx,iom]) + \\\n",
    "                        (data_omega_k[ikx,iom+1] - \\\n",
    "                             data_omega_k[ikx,iom]) * del_om/domega\n",
    "                image[ikx,ikr]=image[ikx,ikr]*jacobian *\\\n",
    "                               np.exp(0-(k-kr[ikr])*r0*1.j) * \\\n",
    "                                    weight[ikx]\n",
    "\n",
    "    image=sfft.ifft2(sfft.ifftshift(image))\n",
    "    print(image)\n",
    "    return image[0:nx,0:nr]\n",
    "\n"
   ]
  },
  {
   "cell_type": "code",
   "execution_count": 26,
   "metadata": {},
   "outputs": [],
   "source": [
    "dat = np.ones((3,3),dtype=float)"
   ]
  },
  {
   "cell_type": "code",
   "execution_count": 27,
   "metadata": {},
   "outputs": [
    {
     "data": {
      "text/plain": [
       "array([[1., 1., 1.],\n",
       "       [1., 2., 1.],\n",
       "       [1., 1., 1.]])"
      ]
     },
     "execution_count": 27,
     "metadata": {},
     "output_type": "execute_result"
    }
   ],
   "source": [
    "dat[1,1]=2\n",
    "dat"
   ]
  },
  {
   "cell_type": "code",
   "execution_count": 28,
   "metadata": {},
   "outputs": [
    {
     "data": {
      "text/plain": [
       "2.8317933181205635"
      ]
     },
     "execution_count": 28,
     "metadata": {},
     "output_type": "execute_result"
    }
   ],
   "source": [
    "np.sqrt(1.57079633*1.57079633+2.35619445*2.35619445)"
   ]
  },
  {
   "cell_type": "code",
   "execution_count": 29,
   "metadata": {},
   "outputs": [
    {
     "name": "stdout",
     "output_type": "stream",
     "text": [
      "[-1.57079633  0.          1.57079633  3.14159265] [-2.35619445e+00 -1.57079628e+00 -7.85398122e-01  4.18879020e-08\n",
      "  7.85398205e-01  1.57079637e+00  2.35619453e+00  3.14159270e+00] [[0.+0.j 0.+0.j 0.+0.j 0.+0.j 0.+0.j 0.+0.j 0.+0.j 0.+0.j]\n",
      " [0.+0.j 0.+0.j 0.+0.j 0.+0.j 0.+0.j 0.+0.j 0.+0.j 0.+0.j]\n",
      " [0.+0.j 0.+0.j 0.+0.j 0.+0.j 0.+0.j 0.+0.j 0.+0.j 0.+0.j]\n",
      " [0.+0.j 0.+0.j 0.+0.j 0.+0.j 0.+0.j 0.+0.j 0.+0.j 0.+0.j]]\n",
      "[[ 1.92209283e-02-6.00454518e-02j  2.03948327e-03-1.50432445e-02j\n",
      "   4.20169617e-02-7.88076152e-03j -2.35948047e-09-2.35948092e-09j\n",
      "  -7.88076327e-03-4.20169624e-02j  2.03948153e-03-1.50432384e-02j\n",
      "   6.00454626e-02+1.92209271e-02j  0.00000000e+00+0.00000000e+00j]\n",
      " [ 3.49239524e-07-1.64321830e+00j  1.98353954e+00+1.98354022e+00j\n",
      "  -3.28643640e+00-4.86901442e-07j -1.98353991e+00+1.98353991e+00j\n",
      "   5.01776031e-16+3.28643654e+00j  1.98353991e+00+1.98353991e+00j\n",
      "   1.64321827e+00+0.00000000e+00j  0.00000000e+00+0.00000000e+00j]\n",
      " [-9.28284297e-01+3.98201768e-01j -1.05568315e+00-2.34598991e+00j\n",
      "   2.46992105e+00-7.12876514e-01j -1.27698360e-07-1.27698383e-07j\n",
      "  -7.12876699e-01-2.46992113e+00j -1.05568347e+00-2.34598969e+00j\n",
      "  -3.98201712e-01-9.28284059e-01j  0.00000000e+00+0.00000000e+00j]\n",
      " [ 0.00000000e+00+0.00000000e+00j  0.00000000e+00+0.00000000e+00j\n",
      "   0.00000000e+00+0.00000000e+00j  4.88664572e-10-4.88664405e-10j\n",
      "   0.00000000e+00+0.00000000e+00j  0.00000000e+00+0.00000000e+00j\n",
      "   0.00000000e+00+0.00000000e+00j  0.00000000e+00+0.00000000e+00j]]\n",
      "[[-3.82189093e-02-2.91197063e-02j  1.17690887e-02+2.17633433e-01j\n",
      "   1.80669254e-02+1.54455912e-01j  8.76609142e-02+9.54256933e-09j\n",
      "  -3.04846437e-02-1.05904321e-01j  1.17690942e-02+4.23116189e-02j\n",
      "  -1.53090933e-01-8.57523278e-02j -8.76609024e-02-7.91212292e-09j]\n",
      " [ 1.81110870e-01-2.69511646e-01j  4.10921143e-01-1.80384449e-01j\n",
      "   2.69799156e-01-6.53837478e-02j  2.47033195e-08-8.76609206e-02j\n",
      "  -5.85875263e-02+1.45827902e-01j  2.35599359e-01-1.80384414e-01j\n",
      "  -3.93482866e-01-5.71396703e-02j -1.02386829e-08+8.76609042e-02j]\n",
      " [-5.94890191e-02-5.03734568e-01j  1.17691107e-02-5.73895230e-01j\n",
      "   3.93370343e-02-3.20158968e-01j -8.76609067e-02-3.15923556e-08j\n",
      "   1.96187689e-01+1.63308323e-01j  1.17691766e-02-3.98573407e-01j\n",
      "  -3.79763351e-01+1.83460213e-01j  8.76609012e-02+1.13132245e-08j]\n",
      " [-2.93503992e-01-2.48241537e-01j -3.80607520e-01-1.80384471e-01j\n",
      "  -2.04815724e-01-8.66538566e-02j -1.64316055e-08+8.76609003e-02j\n",
      "   2.10625118e-01-8.08444302e-02j -2.05285667e-01-1.80384497e-01j\n",
      "  -1.24270325e-01+1.69532748e-01j  8.98666457e-09-8.76608996e-02j]]\n"
     ]
    }
   ],
   "source": [
    "iom=RangeMigrationAlgorithm(dat,1,1,1,1)"
   ]
  },
  {
   "cell_type": "code",
   "execution_count": 30,
   "metadata": {},
   "outputs": [
    {
     "data": {
      "text/plain": [
       "array([[-0.03821891-0.02911971j,  0.01176909+0.21763343j,\n",
       "         0.01806693+0.15445591j],\n",
       "       [ 0.18111087-0.26951165j,  0.41092114-0.18038445j,\n",
       "         0.26979916-0.06538375j],\n",
       "       [-0.05948902-0.50373457j,  0.01176911-0.57389523j,\n",
       "         0.03933703-0.32015897j]])"
      ]
     },
     "execution_count": 30,
     "metadata": {},
     "output_type": "execute_result"
    }
   ],
   "source": [
    "iom"
   ]
  },
  {
   "cell_type": "code",
   "execution_count": 31,
   "metadata": {},
   "outputs": [],
   "source": [
    "#Aircraft parameters\n",
    "v = 100 # aircraft velocity in meters/second\n",
    "z = 3.e3 #aircraft altitude in meters\n",
    "y = 0 #aircraft ground range coordinates"
   ]
  },
  {
   "cell_type": "code",
   "execution_count": 32,
   "metadata": {},
   "outputs": [],
   "source": [
    "#Radar system parameters\n",
    "f0=1.5e9 #L band, 1.5GHz\n",
    "c=3.e8  #speed of light in m/s\n",
    "wavelen0 = c/f0 # wavelength in meters\n",
    "k0 = 2*np.pi/wavelen0 # wavenumber\n",
    "omega0 = 2*np.pi*f0 #angular frequency of carrier signal\n",
    "azres = 1.0 # azimuthal resolution in meters\n",
    "ant_len = 2*azres #antenna length as defined by azimuth resolution\n",
    "Dtau = azres/v #pulse interval\n",
    "BW = 1.5e8 #bandwidth in Hz\n",
    "pw=1/BW    #pulse width in seconds\n",
    "sample_rate = 3.e8 #0.3 GHz sample rate\n"
   ]
  },
  {
   "cell_type": "code",
   "execution_count": 33,
   "metadata": {},
   "outputs": [],
   "source": [
    "#Target parameters\n",
    "Nscat = 3                #number of scatterers\n",
    "xscat = [490, 500, 510]  #x coordinates of targets\n",
    "yscat=[8000, 8010, 8000] #y cooridnates of targets\n",
    "zscat = [0,0,0]          #z coordinates of targets\n",
    "sscat=[1,1,1]            #scattering strength (may be complex)"
   ]
  },
  {
   "cell_type": "code",
   "execution_count": 34,
   "metadata": {},
   "outputs": [],
   "source": [
    "#Simulation data parameters\n",
    "Nx = 1024 #number of pulese\n",
    "xmin = 0 #along-track position of aircraft at time = 0\n",
    "dx=v*Dtau #along-track distance between pulses\n",
    "Nt = 256 #numbebr of time samples per pulse\n",
    "rmin=8500 #minimum simulation range\n",
    "tmin = 2*rmin/c #starting time of data corresponding to the slant range\n",
    "dt=1/sample_rate"
   ]
  },
  {
   "cell_type": "code",
   "execution_count": 35,
   "metadata": {},
   "outputs": [],
   "source": [
    "s=np.zeros((Nx,Nt),dtype=complex)\n",
    "#loop over aircraft position\n",
    "for ix in range(0,Nx):\n",
    "    x=xmin +(ix-1)*dx #radar x coordinate\n",
    "    for iscat in range(0,Nscat):\n",
    "        r=np.sqrt((x-xscat[iscat])**2. + \n",
    "                  (y-yscat[iscat])**2. +\n",
    "                  (z-zscat[iscat])**2.)\n",
    "        tscat = 2*r/c #roundtrip propagation time\n",
    "#        print(tscat)#,xscat[iscat],x,np.power((x-xscat[iscat]),2))\n",
    "        pulsefactor=np.exp(np.complex(0.-omega0*r/c*2j)) #carrier freq\n",
    "#        tester=np.exp(-2*omega0*r/c*1.j)\n",
    "        sinc_arg = k0*ant_len/2*(xscat[iscat]-x)/r\n",
    "\n",
    "        beamfactor = np.power(np.sinc(sinc_arg/np.pi),2)/r/r\n",
    "        for it in range(0,Nt):\n",
    "            t=tmin+(it-1)*dt #time of current sample\n",
    "            pfac = pulsefactor*np.sinc(BW*(t-tscat)) #sinc pulse envelope. flat spectrum in bandwidth\n",
    "            s[ix,it]+=sscat[iscat]*pfac*beamfactor #contribution for this scatterer            \n",
    "\n",
    "\n"
   ]
  },
  {
   "cell_type": "code",
   "execution_count": null,
   "metadata": {},
   "outputs": [],
   "source": []
  },
  {
   "cell_type": "code",
   "execution_count": null,
   "metadata": {},
   "outputs": [],
   "source": []
  },
  {
   "cell_type": "code",
   "execution_count": 36,
   "metadata": {},
   "outputs": [
    {
     "name": "stdout",
     "output_type": "stream",
     "text": [
      "[-3.13545673 -3.12932081 -3.12318488 ...  3.12932081  3.13545673\n",
      "  3.14159265] [56.57321146 56.59775515 56.62229884 56.64684254 56.67138623 56.69592992\n",
      " 56.72047361 56.74501731 56.769561   56.79410469 56.81864838 56.84319208\n",
      " 56.86773577 56.89227946 56.91682315 56.94136685 56.96591054 56.99045423\n",
      " 57.01499792 57.03954162 57.06408531 57.088629   57.11317269 57.13771639\n",
      " 57.16226008 57.18680377 57.21134746 57.23589116 57.26043485 57.28497854\n",
      " 57.30952224 57.33406593 57.35860962 57.38315331 57.40769701 57.4322407\n",
      " 57.45678439 57.48132808 57.50587178 57.53041547 57.55495916 57.57950285\n",
      " 57.60404655 57.62859024 57.65313393 57.67767762 57.70222132 57.72676501\n",
      " 57.7513087  57.77585239 57.80039609 57.82493978 57.84948347 57.87402717\n",
      " 57.89857086 57.92311455 57.94765824 57.97220194 57.99674563 58.02128932\n",
      " 58.04583301 58.07037671 58.0949204  58.11946409 58.14400778 58.16855148\n",
      " 58.19309517 58.21763886 58.24218255 58.26672625 58.29126994 58.31581363\n",
      " 58.34035732 58.36490102 58.38944471 58.4139884  58.4385321  58.46307579\n",
      " 58.48761948 58.51216317 58.53670687 58.56125056 58.58579425 58.61033794\n",
      " 58.63488164 58.65942533 58.68396902 58.70851271 58.73305641 58.7576001\n",
      " 58.78214379 58.80668748 58.83123118 58.85577487 58.88031856 58.90486225\n",
      " 58.92940595 58.95394964 58.97849333 59.00303703 59.02758072 59.05212441\n",
      " 59.0766681  59.1012118  59.12575549 59.15029918 59.17484287 59.19938657\n",
      " 59.22393026 59.24847395 59.27301764 59.29756134 59.32210503 59.34664872\n",
      " 59.37119241 59.39573611 59.4202798  59.44482349 59.46936718 59.49391088\n",
      " 59.51845457 59.54299826 59.56754196 59.59208565 59.61662934 59.64117303\n",
      " 59.66571673 59.69026042 59.71480411 59.7393478  59.7638915  59.78843519\n",
      " 59.81297888 59.83752257 59.86206627 59.88660996 59.91115365 59.93569734\n",
      " 59.96024104 59.98478473 60.00932842 60.03387211 60.05841581 60.0829595\n",
      " 60.10750319 60.13204689 60.15659058 60.18113427 60.20567796 60.23022166\n",
      " 60.25476535 60.27930904 60.30385273 60.32839643 60.35294012 60.37748381\n",
      " 60.4020275  60.4265712  60.45111489 60.47565858 60.50020227 60.52474597\n",
      " 60.54928966 60.57383335 60.59837704 60.62292074 60.64746443 60.67200812\n",
      " 60.69655182 60.72109551 60.7456392  60.77018289 60.79472659 60.81927028\n",
      " 60.84381397 60.86835766 60.89290136 60.91744505 60.94198874 60.96653243\n",
      " 60.99107613 61.01561982 61.04016351 61.0647072  61.0892509  61.11379459\n",
      " 61.13833828 61.16288197 61.18742567 61.21196936 61.23651305 61.26105675\n",
      " 61.28560044 61.31014413 61.33468782 61.35923152 61.38377521 61.4083189\n",
      " 61.43286259 61.45740629 61.48194998 61.50649367 61.53103736 61.55558106\n",
      " 61.58012475 61.60466844 61.62921213 61.65375583 61.67829952 61.70284321\n",
      " 61.7273869  61.7519306  61.77647429 61.80101798 61.82556167 61.85010537\n",
      " 61.87464906 61.89919275 61.92373645 61.94828014 61.97282383 61.99736752\n",
      " 62.02191122 62.04645491 62.0709986  62.09554229 62.12008599 62.14462968\n",
      " 62.16917337 62.19371706 62.21826076 62.24280445 62.26734814 62.29189183\n",
      " 62.31643553 62.34097922 62.36552291 62.3900666  62.4146103  62.43915399\n",
      " 62.46369768 62.48824138 62.51278507 62.53732876 62.56187245 62.58641615\n",
      " 62.61095984 62.63550353 62.66004722 62.68459092 62.70913461 62.7336783\n",
      " 62.75822199 62.78276569 62.80730938 62.83185307 62.85639676 62.88094046\n",
      " 62.90548415 62.93002784 62.95457153 62.97911523 63.00365892 63.02820261\n",
      " 63.05274631 63.07729    63.10183369 63.12637738 63.15092108 63.17546477\n",
      " 63.20000846 63.22455215 63.24909585 63.27363954 63.29818323 63.32272692\n",
      " 63.34727062 63.37181431 63.396358   63.42090169 63.44544539 63.46998908\n",
      " 63.49453277 63.51907646 63.54362016 63.56816385 63.59270754 63.61725124\n",
      " 63.64179493 63.66633862 63.69088231 63.71542601 63.7399697  63.76451339\n",
      " 63.78905708 63.81360078 63.83814447 63.86268816 63.88723185 63.91177555\n",
      " 63.93631924 63.96086293 63.98540662 64.00995032 64.03449401 64.0590377\n",
      " 64.08358139 64.10812509 64.13266878 64.15721247 64.18175617 64.20629986\n",
      " 64.23084355 64.25538724 64.27993094 64.30447463 64.32901832 64.35356201\n",
      " 64.37810571 64.4026494  64.42719309 64.45173678 64.47628048 64.50082417\n",
      " 64.52536786 64.54991155 64.57445525 64.59899894 64.62354263 64.64808632\n",
      " 64.67263002 64.69717371 64.7217174  64.7462611  64.77080479 64.79534848\n",
      " 64.81989217 64.84443587 64.86897956 64.89352325 64.91806694 64.94261064\n",
      " 64.96715433 64.99169802 65.01624171 65.04078541 65.0653291  65.08987279\n",
      " 65.11441648 65.13896018 65.16350387 65.18804756 65.21259125 65.23713495\n",
      " 65.26167864 65.28622233 65.31076603 65.33530972 65.35985341 65.3843971\n",
      " 65.4089408  65.43348449 65.45802818 65.48257187 65.50711557 65.53165926\n",
      " 65.55620295 65.58074664 65.60529034 65.62983403 65.65437772 65.67892141\n",
      " 65.70346511 65.7280088  65.75255249 65.77709618 65.80163988 65.82618357\n",
      " 65.85072726 65.87527095 65.89981465 65.92435834 65.94890203 65.97344573\n",
      " 65.99798942 66.02253311 66.0470768  66.0716205  66.09616419 66.12070788\n",
      " 66.14525157 66.16979527 66.19433896 66.21888265 66.24342634 66.26797004\n",
      " 66.29251373 66.31705742 66.34160111 66.36614481 66.3906885  66.41523219\n",
      " 66.43977588 66.46431958 66.48886327 66.51340696 66.53795066 66.56249435\n",
      " 66.58703804 66.61158173 66.63612543 66.66066912 66.68521281 66.7097565\n",
      " 66.7343002  66.75884389 66.78338758 66.80793127 66.83247497 66.85701866\n",
      " 66.88156235 66.90610604 66.93064974 66.95519343 66.97973712 67.00428081\n",
      " 67.02882451 67.0533682  67.07791189 67.10245559 67.12699928 67.15154297\n",
      " 67.17608666 67.20063036 67.22517405 67.24971774 67.27426143 67.29880513\n",
      " 67.32334882 67.34789251 67.3724362  67.3969799  67.42152359 67.44606728\n",
      " 67.47061097 67.49515467 67.51969836 67.54424205 67.56878574 67.59332944\n",
      " 67.61787313 67.64241682 67.66696052 67.69150421 67.7160479  67.74059159\n",
      " 67.76513529 67.78967898 67.81422267 67.83876636 67.86331006 67.88785375\n",
      " 67.91239744 67.93694113 67.96148483 67.98602852 68.01057221 68.0351159\n",
      " 68.0596596  68.08420329 68.10874698 68.13329067 68.15783437 68.18237806\n",
      " 68.20692175 68.23146545 68.25600914 68.28055283 68.30509652 68.32964022\n",
      " 68.35418391 68.3787276  68.40327129 68.42781499 68.45235868 68.47690237\n",
      " 68.50144606 68.52598976 68.55053345 68.57507714 68.59962083 68.62416453\n",
      " 68.64870822 68.67325191 68.6977956  68.7223393  68.74688299 68.77142668\n",
      " 68.79597038 68.82051407 68.84505776 68.86960145 68.89414515 68.91868884\n",
      " 68.94323253 68.96777622 68.99231992 69.01686361 69.0414073  69.06595099\n",
      " 69.09049469 69.11503838] [[0.+0.j 0.+0.j 0.+0.j ... 0.+0.j 0.+0.j 0.+0.j]\n",
      " [0.+0.j 0.+0.j 0.+0.j ... 0.+0.j 0.+0.j 0.+0.j]\n",
      " [0.+0.j 0.+0.j 0.+0.j ... 0.+0.j 0.+0.j 0.+0.j]\n",
      " ...\n",
      " [0.+0.j 0.+0.j 0.+0.j ... 0.+0.j 0.+0.j 0.+0.j]\n",
      " [0.+0.j 0.+0.j 0.+0.j ... 0.+0.j 0.+0.j 0.+0.j]\n",
      " [0.+0.j 0.+0.j 0.+0.j ... 0.+0.j 0.+0.j 0.+0.j]]\n",
      "[[-2.85984441e-10-3.12998499e-11j -2.32198197e-10-1.06400349e-10j\n",
      "  -2.06847681e-10-1.98119556e-10j ...  0.00000000e+00+0.00000000e+00j\n",
      "   0.00000000e+00+0.00000000e+00j  0.00000000e+00+0.00000000e+00j]\n",
      " [ 2.46103462e-10-1.34678408e-11j  2.20861943e-10+5.97863429e-11j\n",
      "   2.03021829e-10+1.38205253e-10j ...  0.00000000e+00+0.00000000e+00j\n",
      "   0.00000000e+00+0.00000000e+00j  0.00000000e+00+0.00000000e+00j]\n",
      " [-1.40613563e-10+1.72394814e-11j -1.34914081e-10-2.66756188e-11j\n",
      "  -1.22557448e-10-7.13580958e-11j ...  0.00000000e+00+0.00000000e+00j\n",
      "   0.00000000e+00+0.00000000e+00j  0.00000000e+00+0.00000000e+00j]\n",
      " ...\n",
      " [ 1.71618992e-11+3.23776104e-11j  5.45898556e-12+3.29621183e-11j\n",
      "  -4.68334850e-12+3.64740741e-11j ...  0.00000000e+00+0.00000000e+00j\n",
      "   0.00000000e+00+0.00000000e+00j  0.00000000e+00+0.00000000e+00j]\n",
      " [-1.44261303e-10-1.86035940e-11j -1.16257144e-10-5.54772773e-11j\n",
      "  -1.03276621e-10-1.02669298e-10j ...  0.00000000e+00+0.00000000e+00j\n",
      "   0.00000000e+00+0.00000000e+00j  0.00000000e+00+0.00000000e+00j]\n",
      " [ 2.40150330e-10+7.97075304e-11j  1.71976707e-10+1.28435437e-10j\n",
      "   1.40924691e-10+2.09123976e-10j ...  0.00000000e+00+0.00000000e+00j\n",
      "   0.00000000e+00+0.00000000e+00j  0.00000000e+00+0.00000000e+00j]]\n",
      "[[-1.76768386e-13-5.01574933e-13j -1.69146727e-13+1.57527041e-14j\n",
      "   1.65787554e-13+5.17584390e-13j ...  2.69045295e-16+6.45358604e-14j\n",
      "  -5.66426885e-14-8.20872397e-14j -1.03331522e-14-6.98873501e-14j]\n",
      " [-3.12240084e-13-6.60796348e-13j -1.88948207e-13-1.21730256e-13j\n",
      "   3.17441711e-13+6.68687925e-13j ... -7.48287470e-16-6.89035713e-14j\n",
      "   6.30867229e-14+8.39940845e-14j -1.64036961e-15+7.10765897e-14j]\n",
      " [-1.70883249e-13-5.04378879e-13j -1.67347302e-13+1.64605835e-14j\n",
      "   1.56561365e-13+5.22515258e-13j ... -3.41535102e-16+6.65123086e-14j\n",
      "  -6.32191184e-14-7.98323506e-14j -1.00379554e-14-7.27297811e-14j]\n",
      " ...\n",
      " [-2.88195516e-13-6.75053641e-13j -1.85229294e-13-1.32112745e-13j\n",
      "   2.94145713e-13+6.80266314e-13j ... -8.08327248e-16-6.86990534e-14j\n",
      "   5.97081992e-14+8.35168058e-14j -5.20579755e-15+6.88966590e-14j]\n",
      " [-1.69487391e-13-5.04076422e-13j -1.67493040e-13+1.00549490e-14j\n",
      "   1.55763210e-13+5.22701327e-13j ...  1.17232022e-15+6.42035341e-14j\n",
      "  -5.62652004e-14-8.15644346e-14j -6.79399499e-15-6.96527038e-14j]\n",
      " [-3.10487982e-13-6.65227239e-13j -1.89207876e-13-1.23946262e-13j\n",
      "   3.15372479e-13+6.73296334e-13j ... -1.99461260e-15-6.69214738e-14j\n",
      "   5.92220004e-14+8.47645875e-14j -2.51084987e-15+6.87465713e-14j]]\n"
     ]
    }
   ],
   "source": [
    "dr=dt*c/2\n",
    "image=RangeMigrationAlgorithm(s,dx,dr,rmin,f0)"
   ]
  },
  {
   "cell_type": "code",
   "execution_count": 37,
   "metadata": {},
   "outputs": [],
   "source": [
    "%matplotlib inline\n"
   ]
  },
  {
   "cell_type": "code",
   "execution_count": 38,
   "metadata": {},
   "outputs": [],
   "source": [
    "import matplotlib.pyplot as plt\n",
    "import matplotlib.image as mpimg"
   ]
  },
  {
   "cell_type": "code",
   "execution_count": null,
   "metadata": {},
   "outputs": [],
   "source": []
  },
  {
   "cell_type": "code",
   "execution_count": null,
   "metadata": {},
   "outputs": [],
   "source": []
  },
  {
   "cell_type": "code",
   "execution_count": 39,
   "metadata": {},
   "outputs": [],
   "source": [
    "from colorsys import hls_to_rgb"
   ]
  },
  {
   "cell_type": "code",
   "execution_count": 40,
   "metadata": {},
   "outputs": [],
   "source": [
    "def colorize(z):\n",
    "    r = np.abs(z)\n",
    "    arg = np.angle(z) \n",
    "\n",
    "    h = (arg + np.pi)  / (2 * np.pi) + 0.5\n",
    "    l = 1.0 - 1.0/(1.0 + r**0.3)\n",
    "    s = 0.8\n",
    "\n",
    "    c = np.vectorize(hls_to_rgb) (h,l,s) # --> tuple\n",
    "    c = np.array(c)  # -->  array of (3,n,m) shape, but need (n,m,3)\n",
    "    c = c.swapaxes(0,2) \n",
    "    return c"
   ]
  },
  {
   "cell_type": "code",
   "execution_count": 41,
   "metadata": {},
   "outputs": [
    {
     "data": {
      "image/png": "[encoded data removed]",
      "text/plain": [
       "<Figure size 432x288 with 1 Axes>"
      ]
     },
     "metadata": {
      "needs_background": "light"
     },
     "output_type": "display_data"
    }
   ],
   "source": [
    "N=1000\n",
    "x,y = np.ogrid[-5:5:N*1j, -5:5:N*1j]\n",
    "z = x + 1j*y\n",
    "\n",
    "w = 1/(z+1j)**2 + 1/(z-2)**2\n",
    "img = colorize(w)\n",
    "plt.imshow(img)\n",
    "plt.show()"
   ]
  },
  {
   "cell_type": "code",
   "execution_count": 42,
   "metadata": {},
   "outputs": [
    {
     "data": {
      "image/png": "[encoded data removed]",
      "text/plain": [
       "<Figure size 432x288 with 1 Axes>"
      ]
     },
     "metadata": {
      "needs_background": "light"
     },
     "output_type": "display_data"
    }
   ],
   "source": [
    "smag=np.abs(s)**2\n",
    "img=colorize(smag/np.max(np.abs(smag)))\n",
    "plt.imshow( img) #/np.power(np.max(np.real(s)),2))# img)\n",
    "plt.show()"
   ]
  },
  {
   "cell_type": "code",
   "execution_count": 43,
   "metadata": {},
   "outputs": [
    {
     "data": {
      "text/plain": [
       "array([[-1.76768386e-13-5.01574933e-13j, -1.69146727e-13+1.57527041e-14j,\n",
       "         1.65787554e-13+5.17584390e-13j, ...,\n",
       "         2.60449658e-13+5.43454103e-14j, -3.45707325e-13-5.36267463e-13j,\n",
       "        -2.66960907e-13-4.12531197e-14j],\n",
       "       [-3.12240084e-13-6.60796348e-13j, -1.88948207e-13-1.21730256e-13j,\n",
       "         3.17441711e-13+6.68687925e-13j, ...,\n",
       "         2.54141633e-13+4.50757228e-14j, -3.44046414e-13-5.44122264e-13j,\n",
       "        -2.61085256e-13-4.02139203e-14j],\n",
       "       [-1.70883249e-13-5.04378879e-13j, -1.67347302e-13+1.64605835e-14j,\n",
       "         1.56561365e-13+5.22515258e-13j, ...,\n",
       "         2.53056392e-13+5.34272952e-14j, -3.37271607e-13-5.42994219e-13j,\n",
       "        -2.58282957e-13-4.69247724e-14j],\n",
       "       ...,\n",
       "       [-2.88195516e-13-6.75053641e-13j, -1.85229294e-13-1.32112745e-13j,\n",
       "         2.94145713e-13+6.80266314e-13j, ...,\n",
       "         2.55332854e-13+5.89084800e-14j, -3.23725372e-13-5.53691988e-13j,\n",
       "        -2.62722933e-13-5.27172305e-14j],\n",
       "       [-1.69487391e-13-5.04076422e-13j, -1.67493040e-13+1.00549490e-14j,\n",
       "         1.55763210e-13+5.22701327e-13j, ...,\n",
       "         2.54842706e-13+6.04337991e-14j, -3.39776375e-13-5.48898506e-13j,\n",
       "        -2.59378863e-13-4.93088677e-14j],\n",
       "       [-3.10487982e-13-6.65227239e-13j, -1.89207876e-13-1.23946262e-13j,\n",
       "         3.15372479e-13+6.73296334e-13j, ...,\n",
       "         2.47520674e-13+5.10331912e-14j, -3.36475769e-13-5.45116920e-13j,\n",
       "        -2.55180429e-13-4.94704030e-14j]])"
      ]
     },
     "execution_count": 43,
     "metadata": {},
     "output_type": "execute_result"
    }
   ],
   "source": [
    "image"
   ]
  },
  {
   "cell_type": "code",
   "execution_count": 44,
   "metadata": {},
   "outputs": [
    {
     "data": {
      "image/png": "[encoded data removed]",
      "text/plain": [
       "<Figure size 432x288 with 1 Axes>"
      ]
     },
     "metadata": {
      "needs_background": "light"
     },
     "output_type": "display_data"
    }
   ],
   "source": [
    "image=np.abs(image)**2\n",
    "img=colorize(image/np.max(image))\n",
    "plt.imshow(img)\n",
    "plt.show()"
   ]
  },
  {
   "cell_type": "code",
   "execution_count": 45,
   "metadata": {},
   "outputs": [
    {
     "ename": "NameError",
     "evalue": "name 'im' is not defined",
     "output_type": "error",
     "traceback": [
      "\u001b[0;31m---------------------------------------------------------------------------\u001b[0m",
      "\u001b[0;31mNameError\u001b[0m                                 Traceback (most recent call last)",
      "\u001b[0;32m<ipython-input-45-e371e598fe9f>\u001b[0m in \u001b[0;36m<module>\u001b[0;34m\u001b[0m\n\u001b[0;32m----> 1\u001b[0;31m \u001b[0mim\u001b[0m\u001b[0;34m\u001b[0m\u001b[0;34m\u001b[0m\u001b[0m\n\u001b[0m",
      "\u001b[0;31mNameError\u001b[0m: name 'im' is not defined"
     ]
    }
   ],
   "source": [
    "im"
   ]
  },
  {
   "cell_type": "code",
   "execution_count": null,
   "metadata": {},
   "outputs": [],
   "source": []
  },
  {
   "cell_type": "code",
   "execution_count": null,
   "metadata": {},
   "outputs": [],
   "source": []
  },
  {
   "cell_type": "code",
   "execution_count": null,
   "metadata": {},
   "outputs": [],
   "source": []
  },
  {
   "cell_type": "code",
   "execution_count": null,
   "metadata": {},
   "outputs": [],
   "source": []
  },
  {
   "cell_type": "code",
   "execution_count": null,
   "metadata": {},
   "outputs": [],
   "source": []
  }
 ],
 "metadata": {
  "kernelspec": {
   "display_name": "Python 3",
   "language": "python",
   "name": "python3"
  },
  "language_info": {
   "codemirror_mode": {
    "name": "ipython",
    "version": 3
   },
   "file_extension": ".py",
   "mimetype": "text/x-python",
   "name": "python",
   "nbconvert_exporter": "python",
   "pygments_lexer": "ipython3",
   "version": "3.8.3"
  }
 },
 "nbformat": 4,
 "nbformat_minor": 4
}
